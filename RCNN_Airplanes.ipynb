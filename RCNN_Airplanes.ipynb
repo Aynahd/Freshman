{
  "metadata": {
    "kernelspec": {
      "language": "python",
      "display_name": "Python 3",
      "name": "python3"
    },
    "language_info": {
      "pygments_lexer": "ipython3",
      "nbconvert_exporter": "python",
      "version": "3.6.4",
      "file_extension": ".py",
      "codemirror_mode": {
        "name": "ipython",
        "version": 3
      },
      "name": "python",
      "mimetype": "text/x-python"
    },
    "colab": {
      "provenance": [],
      "include_colab_link": true
    }
  },
  "nbformat_minor": 0,
  "nbformat": 4,
  "cells": [
    {
      "cell_type": "markdown",
      "metadata": {
        "id": "view-in-github",
        "colab_type": "text"
      },
      "source": [
        "<a href=\"https://colab.research.google.com/github/Aynahd/Freshman/blob/main/RCNN_Airplanes.ipynb\" target=\"_parent\"><img src=\"https://colab.research.google.com/assets/colab-badge.svg\" alt=\"Open In Colab\"/></a>"
      ]
    },
    {
      "source": [
        "\n",
        "# IMPORTANT: RUN THIS CELL IN ORDER TO IMPORT YOUR KAGGLE DATA SOURCES\n",
        "# TO THE CORRECT LOCATION (/kaggle/input) IN YOUR NOTEBOOK,\n",
        "# THEN FEEL FREE TO DELETE THIS CELL.\n",
        "# NOTE: THIS NOTEBOOK ENVIRONMENT DIFFERS FROM KAGGLE'S PYTHON\n",
        "# ENVIRONMENT SO THERE MAY BE MISSING LIBRARIES USED BY YOUR\n",
        "# NOTEBOOK.\n",
        "\n",
        "import os\n",
        "import sys\n",
        "from tempfile import NamedTemporaryFile\n",
        "from urllib.request import urlopen\n",
        "from urllib.parse import unquote, urlparse\n",
        "from urllib.error import HTTPError\n",
        "from zipfile import ZipFile\n",
        "import tarfile\n",
        "import shutil\n",
        "\n",
        "CHUNK_SIZE = 40960\n",
        "DATA_SOURCE_MAPPING = 'airplanes-dataset-for-rcnn:https%3A%2F%2Fstorage.googleapis.com%2Fkaggle-data-sets%2F985493%2F1664328%2Fbundle%2Farchive.zip%3FX-Goog-Algorithm%3DGOOG4-RSA-SHA256%26X-Goog-Credential%3Dgcp-kaggle-com%2540kaggle-161607.iam.gserviceaccount.com%252F20240420%252Fauto%252Fstorage%252Fgoog4_request%26X-Goog-Date%3D20240420T143015Z%26X-Goog-Expires%3D259200%26X-Goog-SignedHeaders%3Dhost%26X-Goog-Signature%3Dba7d723621f4a66d4300b958b100b1caf71d9d9187a8bd6a32383f72f49dd5f5b78bb639d2ffba62c6febbdbbc1e86544bf72fe3afb4728c24b1773753bd35bcded1f5121658e19be334ec44d8e53340ce9755dffeb1da4e6dfbeaee240790b776b11fd5d96dbf29d90a250090dd82c55d7282003b214fab997a7968e338a2385e1338ecd12805abe8ca320b2c5bc45ae4ba2646b2c31102249ed29f49915413357c808bb8c3185ea3453273f258084ae289795c24d938aebf7d4f8b859b0e53821e5825f114bdfa744b9abf5f18d2669132ecb1cff54ee227721ac835abc5c276fee2dce1814663835c6905b02fe2cb8a2922a538e9a44517dc53a48701f07a'\n",
        "\n",
        "KAGGLE_INPUT_PATH='/kaggle/input'\n",
        "KAGGLE_WORKING_PATH='/kaggle/working'\n",
        "KAGGLE_SYMLINK='kaggle'\n",
        "\n",
        "!umount /kaggle/input/ 2> /dev/null\n",
        "shutil.rmtree('/kaggle/input', ignore_errors=True)\n",
        "os.makedirs(KAGGLE_INPUT_PATH, 0o777, exist_ok=True)\n",
        "os.makedirs(KAGGLE_WORKING_PATH, 0o777, exist_ok=True)\n",
        "\n",
        "try:\n",
        "  os.symlink(KAGGLE_INPUT_PATH, os.path.join(\"..\", 'input'), target_is_directory=True)\n",
        "except FileExistsError:\n",
        "  pass\n",
        "try:\n",
        "  os.symlink(KAGGLE_WORKING_PATH, os.path.join(\"..\", 'working'), target_is_directory=True)\n",
        "except FileExistsError:\n",
        "  pass\n",
        "\n",
        "for data_source_mapping in DATA_SOURCE_MAPPING.split(','):\n",
        "    directory, download_url_encoded = data_source_mapping.split(':')\n",
        "    download_url = unquote(download_url_encoded)\n",
        "    filename = urlparse(download_url).path\n",
        "    destination_path = os.path.join(KAGGLE_INPUT_PATH, directory)\n",
        "    try:\n",
        "        with urlopen(download_url) as fileres, NamedTemporaryFile() as tfile:\n",
        "            total_length = fileres.headers['content-length']\n",
        "            print(f'Downloading {directory}, {total_length} bytes compressed')\n",
        "            dl = 0\n",
        "            data = fileres.read(CHUNK_SIZE)\n",
        "            while len(data) > 0:\n",
        "                dl += len(data)\n",
        "                tfile.write(data)\n",
        "                done = int(50 * dl / int(total_length))\n",
        "                sys.stdout.write(f\"\\r[{'=' * done}{' ' * (50-done)}] {dl} bytes downloaded\")\n",
        "                sys.stdout.flush()\n",
        "                data = fileres.read(CHUNK_SIZE)\n",
        "            if filename.endswith('.zip'):\n",
        "              with ZipFile(tfile) as zfile:\n",
        "                zfile.extractall(destination_path)\n",
        "            else:\n",
        "              with tarfile.open(tfile.name) as tarfile:\n",
        "                tarfile.extractall(destination_path)\n",
        "            print(f'\\nDownloaded and uncompressed: {directory}')\n",
        "    except HTTPError as e:\n",
        "        print(f'Failed to load (likely expired) {download_url} to path {destination_path}')\n",
        "        continue\n",
        "    except OSError as e:\n",
        "        print(f'Failed to load {download_url} to path {destination_path}')\n",
        "        continue\n",
        "\n",
        "print('Data source import complete.')\n"
      ],
      "metadata": {
        "id": "IucndYlE6mEF"
      },
      "cell_type": "code",
      "outputs": [],
      "execution_count": null
    },
    {
      "cell_type": "code",
      "source": [
        "# This Python 3 environment comes with many helpful analytics libraries installed\n",
        "# It is defined by the kaggle/python Docker image: https://github.com/kaggle/docker-python\n",
        "# For example, here's several helpful packages to load\n",
        "\n",
        "import numpy as np # linear algebra\n",
        "import pandas as pd # data processing, CSV file I/O (e.g. pd.read_csv)\n",
        "\n",
        "# Input data files are available in the read-only \"../input/\" directory\n",
        "# For example, running this (by clicking run or pressing Shift+Enter) will list all files under the input directory\n",
        "\n",
        "import os\n",
        "for dirname, _, filenames in os.walk('/kaggle/input'):\n",
        "    for filename in filenames:\n",
        "        print(os.path.join(dirname, filename))\n",
        "\n",
        "# You can write up to 20GB to the current directory (/kaggle/working/) that gets preserved as output when you create a version using \"Save & Run All\"\n",
        "# You can also write temporary files to /kaggle/temp/, but they won't be saved outside of the current session"
      ],
      "metadata": {
        "_uuid": "8f2839f25d086af736a60e9eeb907d3b93b6e0e5",
        "_cell_guid": "b1076dfc-b9ad-4769-8c92-a6c4dae69d19",
        "_kg_hide-input": true,
        "_kg_hide-output": true,
        "trusted": true,
        "id": "zqLVf8u96mEH"
      },
      "execution_count": null,
      "outputs": []
    },
    {
      "cell_type": "code",
      "source": [
        "!pip uninstall opencv-python -y\n",
        "!pip uninstall opencv-contrib-python -y\n",
        "!pip uninstall opencv-python-headless -y\n",
        "!pip uninstall opencv-contrib-python-headless -y\n",
        "!pip uninstall opencv-contrib-python opencv-python\n",
        "!pip install opencv-contrib-python\n"
      ],
      "metadata": {
        "trusted": true,
        "id": "tG9IA-ff6mEH"
      },
      "execution_count": null,
      "outputs": []
    },
    {
      "cell_type": "code",
      "source": [
        "import tensorflow_datasets as tfds\n",
        "import os,cv2,keras\n",
        "import pandas as pd\n",
        "import matplotlib.pyplot as plt\n",
        "import numpy as np\n",
        "import tensorflow as tf\n",
        "#from tqdm.notebook import tqdm\n",
        "from tqdm import tqdm\n",
        "import time\n",
        "import random\n",
        "\n",
        "from keras.layers import Dense\n",
        "from keras import Model\n",
        "from keras import optimizers\n",
        "from keras.preprocessing.image import ImageDataGenerator\n",
        "from keras.optimizers import Adam\n",
        "from keras.applications.vgg16 import VGG16\n",
        "\n",
        "from sklearn.model_selection import train_test_split\n",
        "from sklearn.preprocessing import LabelBinarizer\n",
        "\n",
        "from keras.callbacks import ModelCheckpoint, EarlyStopping\n"
      ],
      "metadata": {
        "trusted": true,
        "id": "SG4X7jpM6mEI"
      },
      "execution_count": null,
      "outputs": []
    },
    {
      "cell_type": "code",
      "source": [
        "def get_iou(bb1, bb2):\n",
        "    assert bb1['x1'] < bb1['x2']\n",
        "    assert bb1['y1'] < bb1['y2']\n",
        "    assert bb2['x1'] < bb2['x2']\n",
        "    assert bb2['y1'] < bb2['y2']\n",
        "\n",
        "    x_left = max(bb1['x1'], bb2['x1'])\n",
        "    y_top = max(bb1['y1'], bb2['y1'])\n",
        "    x_right = min(bb1['x2'], bb2['x2'])\n",
        "    y_bottom = min(bb1['y2'], bb2['y2'])\n",
        "\n",
        "    if x_right < x_left or y_bottom < y_top:\n",
        "        return 0.0\n",
        "    intersection_area = (x_right - x_left) * (y_bottom - y_top)\n",
        "    bb1_area = (bb1['x2'] - bb1['x1']) * (bb1['y2'] - bb1['y1'])\n",
        "    bb2_area = (bb2['x2'] - bb2['x1']) * (bb2['y2'] - bb2['y1'])\n",
        "    iou = intersection_area / float(bb1_area + bb2_area - intersection_area)\n",
        "    assert iou >= 0.0\n",
        "    assert iou <= 1.0\n",
        "    return iou"
      ],
      "metadata": {
        "trusted": true,
        "id": "lXe6X8H36mEI"
      },
      "execution_count": null,
      "outputs": []
    },
    {
      "cell_type": "code",
      "source": [
        "def get_rectangle(csv_annot):\n",
        "    df = pd.read_csv(csv_annot)\n",
        "    boxes=[]\n",
        "    for row in df.iterrows():\n",
        "        x1 = int(row[1][0].split(\" \")[0])\n",
        "        y1 = int(row[1][0].split(\" \")[1])\n",
        "        x2 = int(row[1][0].split(\" \")[2])\n",
        "        y2 = int(row[1][0].split(\" \")[3])\n",
        "        box={\"x1\":x1,\"x2\":x2,\"y1\":y1,\"y2\":y2}\n",
        "        boxes.append(box)\n",
        "    return boxes"
      ],
      "metadata": {
        "trusted": true,
        "id": "zWG1PXsN6mEJ"
      },
      "execution_count": null,
      "outputs": []
    },
    {
      "cell_type": "code",
      "source": [
        "def rectang_from_image(image,x,y,w,h):\n",
        "    timage = image[y:y+h,x:x+w]\n",
        "    resized = cv2.resize(timage,\n",
        "                     (224,224),\n",
        "                     interpolation = cv2.INTER_AREA)\n",
        "    return resized"
      ],
      "metadata": {
        "trusted": true,
        "id": "C-x9HrLk6mEJ"
      },
      "execution_count": null,
      "outputs": []
    },
    {
      "cell_type": "code",
      "source": [
        "max_proposal = 2000\n",
        "max_samples = 30\n",
        "IOU_treshold_plane = 0.7\n",
        "IOU_treshold_background = 0.3\n",
        "\n",
        "dataset_path = \"../input/airplanes-dataset-for-rcnn/Images/Images\"\n",
        "annot=\"../input/airplanes-dataset-for-rcnn/Airplanes_Annotations/Airplanes_Annotations\"\n",
        "\n",
        "ss = cv2.ximgproc.segmentation.createSelectiveSearchSegmentation()\n",
        "\n",
        "train_images=[]\n",
        "train_labels=[]\n",
        "images=os.listdir(dataset_path)"
      ],
      "metadata": {
        "trusted": true,
        "id": "YqM_ummp6mEJ"
      },
      "execution_count": null,
      "outputs": []
    },
    {
      "cell_type": "code",
      "source": [
        "img_name=random.choice(images)\n",
        "img = cv2.imread(os.path.join(dataset_path,img_name))\n",
        "plt.imshow(img)\n",
        "csv_file = os.path.join(annot,str(img_name).split(\".\")[0]+\".csv\")\n",
        "boxes=get_rectangle(csv_file)\n",
        "for box in boxes:\n",
        "    cv2.rectangle(img,(box['x1'],box['y1']),(box['x2'],box['y2']),(255,0,0), 2)\n",
        "plt.figure()\n",
        "plt.imshow(img)\n",
        "\n",
        "cv2.setUseOptimized(True);\n",
        "ss = cv2.ximgproc.segmentation.createSelectiveSearchSegmentation()\n",
        "ss.setBaseImage(img)\n",
        "ss.switchToSelectiveSearchFast()\n",
        "rects = ss.process()\n",
        "imOut = img.copy()\n",
        "for i, rect in (enumerate(rects)):\n",
        "    x, y, w, h = rect\n",
        "    cv2.rectangle(imOut, (x, y), (x+w, y+h), (0, 255, 0), 1, cv2.LINE_AA)\n",
        "# plt.figure()\n",
        "plt.imshow(imOut)\n"
      ],
      "metadata": {
        "trusted": true,
        "id": "ziiq8CmT6mEL"
      },
      "execution_count": null,
      "outputs": []
    },
    {
      "cell_type": "code",
      "source": [
        "for file in tqdm(images[:100], desc=\"creating dataset\"):\n",
        "    try:\n",
        "        box_values=[]\n",
        "        image=cv2.imread(os.path.join(dataset_path,file))\n",
        "        csv_path = os.path.join(annot,file.split(\".\")[0]+\".csv\")\n",
        "        box_values.extend(get_rectangle(csv_path))\n",
        "        ss.setBaseImage(image)\n",
        "        ss.switchToSelectiveSearchFast()\n",
        "        ssresults = ss.process()\n",
        "        imout = image.copy()\n",
        "        counter=flag=falsecounter=fflag=bflag = 0\n",
        "        for e, result in  enumerate(ssresults):\n",
        "            if e< max_proposal and flag==0:\n",
        "                for a_box in box_values:\n",
        "                    x,y,w,h = result\n",
        "                    iou = get_iou(a_box,{\"x1\":x,\"x2\":x+w,\"y1\":y,\"y2\":y+h})\n",
        "                    if counter < max_samples:\n",
        "                        if iou > IOU_treshold_plane:\n",
        "                            train_images.append(rectang_from_image(image,x,y,w,h))\n",
        "                            train_labels.append(1)\n",
        "                            counter +=1\n",
        "                    else:\n",
        "                        fflag = 1\n",
        "                    if falsecounter < max_samples:\n",
        "                        if iou < IOU_treshold_background:\n",
        "                            train_images.append(rectang_from_image(image,x,y,w,h))\n",
        "                            train_labels.append(0)\n",
        "                            falsecounter += 1\n",
        "                    else:\n",
        "                        bflag = 1\n",
        "                if fflag == 1 and bflag==1:\n",
        "                    flag=1\n",
        "    except Exception as e:\n",
        "        print(e)\n",
        "        continue"
      ],
      "metadata": {
        "trusted": true,
        "id": "mYq7lty46mEM"
      },
      "execution_count": null,
      "outputs": []
    },
    {
      "cell_type": "code",
      "source": [
        "vggmodel = VGG16(weights='imagenet', include_top=True)\n",
        "\n",
        "for layers in (vggmodel.layers)[:15]:\n",
        "    print(layers)\n",
        "    layers.trainable = False\n",
        "\n",
        "X= vggmodel.layers[-2].output\n",
        "predictions = Dense(1, activation=\"sigmoid\")(X)\n",
        "model_final = Model(vggmodel.input,predictions)\n",
        "opt = Adam(lr=0.0001)\n",
        "model_final.compile(loss = keras.losses.binary_crossentropy, optimizer = opt, metrics=[\"accuracy\"])\n",
        "model_final.summary()"
      ],
      "metadata": {
        "trusted": true,
        "id": "rqyCY6M76mEN"
      },
      "execution_count": null,
      "outputs": []
    },
    {
      "cell_type": "code",
      "source": [
        "X_new = np.array(train_images)\n",
        "y_new = np.array(train_labels)\n",
        "\n",
        "X_train, X_test , y_train, y_test = train_test_split(X_new,y_new,test_size=0.10)\n",
        "\n",
        "trdata    = ImageDataGenerator(horizontal_flip=True, vertical_flip=True, rotation_range=0)\n",
        "traindata = trdata.flow(x=X_train, y=y_train)\n",
        "tsdata    = ImageDataGenerator(horizontal_flip=True, vertical_flip=True, rotation_range=0)\n",
        "testdata  = tsdata.flow(x=X_test, y=y_test)"
      ],
      "metadata": {
        "trusted": true,
        "id": "TJWDnWxL6mEN"
      },
      "execution_count": null,
      "outputs": []
    },
    {
      "cell_type": "code",
      "source": [
        "checkpoint = ModelCheckpoint(\"ieeercnn_vgg16_1.h5\",\n",
        "                             monitor='val_loss',\n",
        "                             verbose=1,\n",
        "                             save_best_only=True,\n",
        "                             save_weights_only=False,\n",
        "                             mode='auto', period=1)\n",
        "\n",
        "early = EarlyStopping(monitor='val_loss',\n",
        "                      min_delta=0,\n",
        "                      patience=100,\n",
        "                      verbose=1,\n",
        "                      mode='auto')\n",
        "\n",
        "hist = model_final.fit_generator(generator= traindata,\n",
        "                                 steps_per_epoch= 10,\n",
        "                                 epochs= 100,\n",
        "                                 validation_data= testdata,\n",
        "                                 validation_steps=2,\n",
        "                                 callbacks=[checkpoint,early])"
      ],
      "metadata": {
        "trusted": true,
        "id": "EwgJsOKi6mEO"
      },
      "execution_count": null,
      "outputs": []
    },
    {
      "cell_type": "code",
      "source": [
        "from IPython.display import HTML\n",
        "def create_download_link(title = \"Download model file\", filename = './RNN_model.h5'):\n",
        "    html = '<a href={filename}>{title}</a>'\n",
        "    html = html.format(title=title,filename=filename)\n",
        "    return HTML(html)\n",
        "\n",
        "\n",
        "model_final.save('./RNN_model.h5')\n",
        "# create a link to download the model\n",
        "create_download_link(filename='./RNN_model.h5')"
      ],
      "metadata": {
        "trusted": true,
        "id": "L25rIZOg6mEO"
      },
      "execution_count": null,
      "outputs": []
    },
    {
      "cell_type": "code",
      "source": [
        "img=random.choice(images)\n",
        "img = cv2.imread(os.path.join(dataset_path,img))\n",
        "ss.setBaseImage(img)\n",
        "ss.switchToSelectiveSearchFast()\n",
        "ssresults = ss.process()\n",
        "imout = img.copy()\n",
        "for e,result in enumerate(ssresults):\n",
        "    if e < 2000:\n",
        "        x,y,w,h = result\n",
        "        timage = imout[y:y+h,x:x+w]\n",
        "        resized = cv2.resize(timage, (224,224), interpolation = cv2.INTER_AREA)\n",
        "        img = np.expand_dims(resized, axis=0)\n",
        "        out= model_final.predict(img)\n",
        "        if out[0][0] > 0.7:\n",
        "            cv2.rectangle(imout, (x, y), (x+w, y+h), (0, 255, 0), 1, cv2.LINE_AA)\n",
        "plt.figure()\n",
        "plt.imshow(imout)"
      ],
      "metadata": {
        "trusted": true,
        "id": "OEV3canE6mEO"
      },
      "execution_count": null,
      "outputs": []
    }
  ]
}