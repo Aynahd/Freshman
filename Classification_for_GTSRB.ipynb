{
  "metadata": {
    "kernelspec": {
      "language": "python",
      "display_name": "Python 3",
      "name": "python3"
    },
    "language_info": {
      "name": "python",
      "version": "3.7.12",
      "mimetype": "text/x-python",
      "codemirror_mode": {
        "name": "ipython",
        "version": 3
      },
      "pygments_lexer": "ipython3",
      "nbconvert_exporter": "python",
      "file_extension": ".py"
    },
    "kaggle": {
      "accelerator": "none",
      "dataSources": [
        {
          "sourceId": 191501,
          "sourceType": "datasetVersion",
          "datasetId": 82373
        },
        {
          "sourceId": 1664166,
          "sourceType": "datasetVersion",
          "datasetId": 985376
        }
      ],
      "dockerImageVersionId": 30302,
      "isInternetEnabled": true,
      "language": "python",
      "sourceType": "notebook",
      "isGpuEnabled": false
    },
    "colab": {
      "name": "Classification-for-GTSRB",
      "provenance": [],
      "include_colab_link": true
    }
  },
  "nbformat_minor": 0,
  "nbformat": 4,
  "cells": [
    {
      "cell_type": "markdown",
      "metadata": {
        "id": "view-in-github",
        "colab_type": "text"
      },
      "source": [
        "<a href=\"https://colab.research.google.com/github/Aynahd/Y24/blob/main/Classification_for_GTSRB.ipynb\" target=\"_parent\"><img src=\"https://colab.research.google.com/assets/colab-badge.svg\" alt=\"Open In Colab\"/></a>"
      ]
    },
    {
      "source": [
        "\n",
        "# IMPORTANT: RUN THIS CELL IN ORDER TO IMPORT YOUR KAGGLE DATA SOURCES\n",
        "# TO THE CORRECT LOCATION (/kaggle/input) IN YOUR NOTEBOOK,\n",
        "# THEN FEEL FREE TO DELETE THIS CELL.\n",
        "# NOTE: THIS NOTEBOOK ENVIRONMENT DIFFERS FROM KAGGLE'S PYTHON\n",
        "# ENVIRONMENT SO THERE MAY BE MISSING LIBRARIES USED BY YOUR\n",
        "# NOTEBOOK.\n",
        "\n",
        "import os\n",
        "import sys\n",
        "from tempfile import NamedTemporaryFile\n",
        "from urllib.request import urlopen\n",
        "from urllib.parse import unquote, urlparse\n",
        "from urllib.error import HTTPError\n",
        "from zipfile import ZipFile\n",
        "import tarfile\n",
        "import shutil\n",
        "\n",
        "CHUNK_SIZE = 40960\n",
        "DATA_SOURCE_MAPPING = 'gtsrb-german-traffic-sign:https%3A%2F%2Fstorage.googleapis.com%2Fkaggle-data-sets%2F82373%2F191501%2Fbundle%2Farchive.zip%3FX-Goog-Algorithm%3DGOOG4-RSA-SHA256%26X-Goog-Credential%3Dgcp-kaggle-com%2540kaggle-161607.iam.gserviceaccount.com%252F20240507%252Fauto%252Fstorage%252Fgoog4_request%26X-Goog-Date%3D20240507T163006Z%26X-Goog-Expires%3D259200%26X-Goog-SignedHeaders%3Dhost%26X-Goog-Signature%3D6bf29bdfa00e1092169a57d8060ba84517b90797cda0c4dd2c12e53cfe1e0ab900b22966e12b517bcd7291712616fb77238fc30584e331e6f7f32423e2393fb476912733a467ef118d9842918bb3060bf439364ea51b93a48c70666811cc4a9607372f26b567459644e1fa8d7816b48f16bf040201fdec2f167b6a70e02b68c77fe89c9fea99342e6f013c17529ae57a1960220513f4c2d62dad4fa264422b0fd89c33a002381a134105668faba712f9b1376e6e234ed2124ecfa0b3233cfaa5f3a258c9b30748f3adb04df1fee64c186724890adce3f0dc4cfe5173a52455ade3596869a7a90934ad1828d0ce90100b9ced14cbcd5ea8639642652ecd2a1d0c,german-traffic-sign-detection-benchmark-gtsdb:https%3A%2F%2Fstorage.googleapis.com%2Fkaggle-data-sets%2F985376%2F1664166%2Fbundle%2Farchive.zip%3FX-Goog-Algorithm%3DGOOG4-RSA-SHA256%26X-Goog-Credential%3Dgcp-kaggle-com%2540kaggle-161607.iam.gserviceaccount.com%252F20240507%252Fauto%252Fstorage%252Fgoog4_request%26X-Goog-Date%3D20240507T163006Z%26X-Goog-Expires%3D259200%26X-Goog-SignedHeaders%3Dhost%26X-Goog-Signature%3D5c6731590f7f09c4b7efc15a8bdbded663b50053733857f5d83bd0aca6001025f245edbb4557e73025b624fd0d19a91648d1d1b4560bfc3a19fc9d252e807a0786f8ecb22dc4ddfe49861c7f994b19130e2fd9effd5bc656e466b44923e1887f621eb3f5d3b646bf9ceeb8f2ed1badea7bdf95be9ef69176d1d79bce25060ed2e85d55df391ad1fb36a591fb1f64d64d071523ae48c8050889bb5d35866dda15fbfd49f2cf3bee6656ff979fdbbc04a7f6ce3ee5fe9e8128f44927ef72a0be311086eb6eb2df61f96be7e6f4c2746e152c5894bf520d8bcb8ddec04ebb02a8c1bfb7a07429bbb134c5ecbb7badc67e08f8aab38d65a021f36d417345600a2976'\n",
        "\n",
        "KAGGLE_INPUT_PATH='/kaggle/input'\n",
        "KAGGLE_WORKING_PATH='/kaggle/working'\n",
        "KAGGLE_SYMLINK='kaggle'\n",
        "\n",
        "!umount /kaggle/input/ 2> /dev/null\n",
        "shutil.rmtree('/kaggle/input', ignore_errors=True)\n",
        "os.makedirs(KAGGLE_INPUT_PATH, 0o777, exist_ok=True)\n",
        "os.makedirs(KAGGLE_WORKING_PATH, 0o777, exist_ok=True)\n",
        "\n",
        "try:\n",
        "  os.symlink(KAGGLE_INPUT_PATH, os.path.join(\"..\", 'input'), target_is_directory=True)\n",
        "except FileExistsError:\n",
        "  pass\n",
        "try:\n",
        "  os.symlink(KAGGLE_WORKING_PATH, os.path.join(\"..\", 'working'), target_is_directory=True)\n",
        "except FileExistsError:\n",
        "  pass\n",
        "\n",
        "for data_source_mapping in DATA_SOURCE_MAPPING.split(','):\n",
        "    directory, download_url_encoded = data_source_mapping.split(':')\n",
        "    download_url = unquote(download_url_encoded)\n",
        "    filename = urlparse(download_url).path\n",
        "    destination_path = os.path.join(KAGGLE_INPUT_PATH, directory)\n",
        "    try:\n",
        "        with urlopen(download_url) as fileres, NamedTemporaryFile() as tfile:\n",
        "            total_length = fileres.headers['content-length']\n",
        "            print(f'Downloading {directory}, {total_length} bytes compressed')\n",
        "            dl = 0\n",
        "            data = fileres.read(CHUNK_SIZE)\n",
        "            while len(data) > 0:\n",
        "                dl += len(data)\n",
        "                tfile.write(data)\n",
        "                done = int(50 * dl / int(total_length))\n",
        "                sys.stdout.write(f\"\\r[{'=' * done}{' ' * (50-done)}] {dl} bytes downloaded\")\n",
        "                sys.stdout.flush()\n",
        "                data = fileres.read(CHUNK_SIZE)\n",
        "            if filename.endswith('.zip'):\n",
        "              with ZipFile(tfile) as zfile:\n",
        "                zfile.extractall(destination_path)\n",
        "            else:\n",
        "              with tarfile.open(tfile.name) as tarfile:\n",
        "                tarfile.extractall(destination_path)\n",
        "            print(f'\\nDownloaded and uncompressed: {directory}')\n",
        "    except HTTPError as e:\n",
        "        print(f'Failed to load (likely expired) {download_url} to path {destination_path}')\n",
        "        continue\n",
        "    except OSError as e:\n",
        "        print(f'Failed to load {download_url} to path {destination_path}')\n",
        "        continue\n",
        "\n",
        "print('Data source import complete.')\n"
      ],
      "metadata": {
        "id": "EpQu_sCd5B0E",
        "outputId": "80ca5cde-9d7b-4f91-bcac-a4bed34c33af",
        "colab": {
          "base_uri": "https://localhost:8080/"
        }
      },
      "cell_type": "code",
      "outputs": [
        {
          "output_type": "stream",
          "name": "stdout",
          "text": [
            "Downloading gtsrb-german-traffic-sign, 641568792 bytes compressed\n",
            "[==================================================] 641568792 bytes downloaded\n",
            "Downloaded and uncompressed: gtsrb-german-traffic-sign\n",
            "Downloading german-traffic-sign-detection-benchmark-gtsdb, 1729369023 bytes compressed\n",
            "[==================================================] 1729369023 bytes downloaded\n",
            "Downloaded and uncompressed: german-traffic-sign-detection-benchmark-gtsdb\n",
            "Data source import complete.\n"
          ]
        }
      ],
      "execution_count": 2
    },
    {
      "cell_type": "code",
      "source": [
        "import numpy as np\n",
        "import pandas as pd\n",
        "import matplotlib.pyplot as plt\n",
        "import cv2\n",
        "import tensorflow as tf\n",
        "from tensorflow import keras\n",
        "from PIL import Image\n",
        "import os\n",
        "import pathlib\n",
        "import random as rn\n",
        "from sklearn.model_selection import train_test_split\n",
        "import tensorflow_hub as hub\n",
        "from tensorflow.keras.preprocessing.image import ImageDataGenerator, img_to_array, array_to_img, load_img\n",
        "from tensorflow.keras.utils import to_categorical\n",
        "from tensorflow.keras.models import Sequential, load_model\n",
        "from tensorflow.keras.applications import VGG19,VGG16, ResNet50\n",
        "from tensorflow.keras.layers import Conv2D, MaxPool2D, Dense, Flatten, Dropout\n",
        "from sklearn.metrics import accuracy_score\n",
        "import argparse\n",
        "\n",
        "print(\"Num GPUs Available: \", len(tf.config.list_physical_devices('GPU')))"
      ],
      "metadata": {
        "_uuid": "8f2839f25d086af736a60e9eeb907d3b93b6e0e5",
        "_cell_guid": "b1076dfc-b9ad-4769-8c92-a6c4dae69d19",
        "execution": {
          "iopub.status.busy": "2023-11-30T08:27:55.526363Z",
          "iopub.execute_input": "2023-11-30T08:27:55.526749Z",
          "iopub.status.idle": "2023-11-30T08:27:55.535284Z",
          "shell.execute_reply.started": "2023-11-30T08:27:55.526723Z",
          "shell.execute_reply": "2023-11-30T08:27:55.53391Z"
        },
        "trusted": true,
        "id": "UkSqLq_B5B0I",
        "outputId": "8dc1ac7b-356a-4831-ed57-5148f01adee3",
        "colab": {
          "base_uri": "https://localhost:8080/"
        }
      },
      "execution_count": 3,
      "outputs": [
        {
          "output_type": "stream",
          "name": "stdout",
          "text": [
            "Num GPUs Available:  0\n"
          ]
        }
      ]
    },
    {
      "cell_type": "code",
      "source": [
        "def equalize(img):\n",
        "    #print(type(img), img.shape)\n",
        "    img1=np.uint8(cv2.normalize(img, None, 0, 255, cv2.NORM_MINMAX))\n",
        "    clahe = cv2.createCLAHE(clipLimit=2.0, tileGridSize=(8,8))\n",
        "    img = clahe.apply(img1)\n",
        "    img = cv2.equalizeHist(img)\n",
        "    img = tf.expand_dims(img, axis=-1)\n",
        "    img = np.array(img)\n",
        "    img = img.astype(np.float64)\n",
        "    #print(type(img), img.shape)\n",
        "    return img"
      ],
      "metadata": {
        "execution": {
          "iopub.status.busy": "2023-11-30T08:25:36.696968Z",
          "iopub.execute_input": "2023-11-30T08:25:36.698866Z",
          "iopub.status.idle": "2023-11-30T08:25:36.705863Z",
          "shell.execute_reply.started": "2023-11-30T08:25:36.698777Z",
          "shell.execute_reply": "2023-11-30T08:25:36.704172Z"
        },
        "trusted": true,
        "id": "G66a86kP5B0I"
      },
      "execution_count": 4,
      "outputs": []
    },
    {
      "cell_type": "code",
      "source": [
        "data_dir = '../input/gtsrb-german-traffic-sign/'\n",
        "train_path = '../input/gtsrb-german-traffic-sign/Train'\n",
        "test_path = '../input/gtsrb-german-traffic-sign/Test/'\n",
        "height = 32\n",
        "width = 32\n"
      ],
      "metadata": {
        "execution": {
          "iopub.status.busy": "2023-11-30T08:25:36.708577Z",
          "iopub.execute_input": "2023-11-30T08:25:36.709335Z",
          "iopub.status.idle": "2023-11-30T08:25:36.727563Z",
          "shell.execute_reply.started": "2023-11-30T08:25:36.709298Z",
          "shell.execute_reply": "2023-11-30T08:25:36.726255Z"
        },
        "trusted": true,
        "id": "odBoahtp5B0J"
      },
      "execution_count": 5,
      "outputs": []
    },
    {
      "cell_type": "code",
      "source": [
        "classes = { 0:'Speed limit (20km/h)',\n",
        "            1:'Speed limit (30km/h)',\n",
        "            2:'Speed limit (50km/h)',\n",
        "            3:'Speed limit (60km/h)',\n",
        "            4:'Speed limit (70km/h)',\n",
        "            5:'Speed limit (80km/h)',\n",
        "            6:'End of speed limit (80km/h)',\n",
        "            7:'Speed limit (100km/h)',\n",
        "            8:'Speed limit (120km/h)',\n",
        "            9:'No passing',\n",
        "            10:'No passing veh over 3.5 tons',\n",
        "            11:'Right-of-way at intersection',\n",
        "            12:'Priority road',\n",
        "            13:'Yield',\n",
        "            14:'Stop',\n",
        "            15:'No vehicles',\n",
        "            16:'Veh > 3.5 tons prohibited',\n",
        "            17:'No entry',\n",
        "            18:'General caution',\n",
        "            19:'Dangerous curve left',\n",
        "            20:'Dangerous curve right',\n",
        "            21:'Double curve',\n",
        "            22:'Bumpy road',\n",
        "            23:'Slippery road',\n",
        "            24:'Road narrows on the right',\n",
        "            25:'Road work',\n",
        "            26:'Traffic signals',\n",
        "            27:'Pedestrians',\n",
        "            28:'Children crossing',\n",
        "            29:'Bicycles crossing',\n",
        "            30:'Beware of ice/snow',\n",
        "            31:'Wild animals crossing',\n",
        "            32:'End speed + passing limits',\n",
        "            33:'Turn right ahead',\n",
        "            34:'Turn left ahead',\n",
        "            35:'Ahead only',\n",
        "            36:'Go straight or right',\n",
        "            37:'Go straight or left',\n",
        "            38:'Keep right',\n",
        "            39:'Keep left',\n",
        "            40:'Roundabout mandatory',\n",
        "            41:'End of no passing',\n",
        "            42:'End no passing veh > 3.5 tons' }\n"
      ],
      "metadata": {
        "execution": {
          "iopub.status.busy": "2023-11-30T08:25:36.730752Z",
          "iopub.execute_input": "2023-11-30T08:25:36.731025Z",
          "iopub.status.idle": "2023-11-30T08:25:36.740649Z",
          "shell.execute_reply.started": "2023-11-30T08:25:36.731001Z",
          "shell.execute_reply": "2023-11-30T08:25:36.739665Z"
        },
        "trusted": true,
        "id": "QLy9JA175B0J"
      },
      "execution_count": 6,
      "outputs": []
    },
    {
      "cell_type": "code",
      "source": [
        "batch_size = 150\n",
        "seed = 42\n"
      ],
      "metadata": {
        "execution": {
          "iopub.status.busy": "2023-11-30T08:25:36.741915Z",
          "iopub.execute_input": "2023-11-30T08:25:36.742411Z",
          "iopub.status.idle": "2023-11-30T08:25:36.754559Z",
          "shell.execute_reply.started": "2023-11-30T08:25:36.742384Z",
          "shell.execute_reply": "2023-11-30T08:25:36.753496Z"
        },
        "trusted": true,
        "id": "vXwDTAwU5B0K"
      },
      "execution_count": 7,
      "outputs": []
    },
    {
      "cell_type": "code",
      "source": [
        "train_datagen = ImageDataGenerator(rescale=1./255,\n",
        "                                   validation_split=0.2,\n",
        "                                   preprocessing_function=equalize)\n",
        "train_dataset = train_datagen.flow_from_directory(train_path,\n",
        "                                                  target_size=(height, width),\n",
        "                                                  batch_size=batch_size,\n",
        "                                                  class_mode='categorical',\n",
        "                                                  shuffle=True,\n",
        "                                                  seed=seed,\n",
        "                                                  color_mode='grayscale',\n",
        "                                                  interpolation='hamming',\n",
        "                                                  subset='training')\n",
        "\n",
        "test_datagen = ImageDataGenerator(rescale=1./255,\n",
        "                                  validation_split=0.2,\n",
        "                                   preprocessing_function=equalize)\n",
        "test_dataset = test_datagen.flow_from_directory(train_path,\n",
        "                                                target_size=(height, width),\n",
        "                                                batch_size=batch_size,\n",
        "                                                class_mode='categorical',\n",
        "                                                shuffle=True,\n",
        "                                                seed=seed,\n",
        "                                                color_mode='grayscale',\n",
        "                                                interpolation='hamming',\n",
        "                                                subset='validation')"
      ],
      "metadata": {
        "execution": {
          "iopub.status.busy": "2023-11-30T08:25:36.755798Z",
          "iopub.execute_input": "2023-11-30T08:25:36.756288Z",
          "iopub.status.idle": "2023-11-30T08:26:19.409748Z",
          "shell.execute_reply.started": "2023-11-30T08:25:36.756263Z",
          "shell.execute_reply": "2023-11-30T08:26:19.408437Z"
        },
        "trusted": true,
        "id": "3jNso32_5B0K",
        "outputId": "555b6f22-f2a7-4f4e-9c7d-b759cf64fd67",
        "colab": {
          "base_uri": "https://localhost:8080/"
        }
      },
      "execution_count": 8,
      "outputs": [
        {
          "output_type": "stream",
          "name": "stdout",
          "text": [
            "Found 31368 images belonging to 43 classes.\n",
            "Found 7841 images belonging to 43 classes.\n"
          ]
        }
      ]
    },
    {
      "cell_type": "code",
      "source": [
        "train_labels= train_dataset.labels\n",
        "test_labels= test_dataset.labels"
      ],
      "metadata": {
        "execution": {
          "iopub.status.busy": "2023-11-21T15:51:41.430877Z",
          "iopub.execute_input": "2023-11-21T15:51:41.43176Z",
          "iopub.status.idle": "2023-11-21T15:51:41.436612Z",
          "shell.execute_reply.started": "2023-11-21T15:51:41.431706Z",
          "shell.execute_reply": "2023-11-21T15:51:41.435506Z"
        },
        "trusted": true,
        "id": "VGgn9G0I5B0L"
      },
      "execution_count": null,
      "outputs": []
    },
    {
      "cell_type": "code",
      "source": [
        "list_set = set(train_labels)\n",
        "unique_list = (list(list_set))\n",
        "\n",
        "print(unique_list)\n",
        "unique_list.append(43)"
      ],
      "metadata": {
        "execution": {
          "iopub.status.busy": "2023-11-21T15:51:41.438005Z",
          "iopub.execute_input": "2023-11-21T15:51:41.438872Z",
          "iopub.status.idle": "2023-11-21T15:51:41.456929Z",
          "shell.execute_reply.started": "2023-11-21T15:51:41.438834Z",
          "shell.execute_reply": "2023-11-21T15:51:41.455829Z"
        },
        "trusted": true,
        "id": "5rUDUZjI5B0L"
      },
      "execution_count": null,
      "outputs": []
    },
    {
      "cell_type": "code",
      "source": [
        "# fig, ax = plt.subplots(figsize =(20, 7))\n",
        "# counts, edges, bars = ax.hist(train_labels, bins = unique_list,edgecolor='black')\n",
        "\n",
        "# # Set title\n",
        "# ax.set_title(\"GTSRB Dataset classes distribution\")\n",
        "\n",
        "# # adding labels\n",
        "# ax.set_xlabel('Classes')\n",
        "# #ax.set_ylabel('y-label')\n",
        "\n",
        "# # Make some labels.\n",
        "# rects = ax.patches\n",
        "# label = unique_list\n",
        "\n",
        "# for rect, label in zip(rects, label):\n",
        "#     height = rect.get_height()\n",
        "#     ax.text(rect.get_x() + rect.get_width() / 2, 0, label,\n",
        "#             ha='center', va='bottom')\n",
        "# ax.axes.get_xaxis().set_ticks([])\n",
        "# ax.bar_label(bars)\n",
        "# plt.savefig('GTSRB Dataset train classes distribution.png')\n",
        "# # Show plot\n",
        "# plt.show()\n",
        "\n",
        "# print(counts)\n"
      ],
      "metadata": {
        "execution": {
          "iopub.status.busy": "2023-11-21T15:52:36.024901Z",
          "iopub.execute_input": "2023-11-21T15:52:36.025403Z",
          "iopub.status.idle": "2023-11-21T15:52:36.994272Z",
          "shell.execute_reply.started": "2023-11-21T15:52:36.025365Z",
          "shell.execute_reply": "2023-11-21T15:52:36.992539Z"
        },
        "trusted": true,
        "id": "K5HEz_JX5B0L"
      },
      "execution_count": null,
      "outputs": []
    },
    {
      "cell_type": "code",
      "source": [
        "# fig, ax = plt.subplots(figsize =(20, 7))\n",
        "# counts, edges, bars = ax.hist(test_labels, bins = unique_list,edgecolor='black')\n",
        "\n",
        "# # Set title\n",
        "# ax.set_title(\"GTSRB Dataset test classes distribution\")\n",
        "\n",
        "# # adding labels\n",
        "# ax.set_xlabel('Classes')\n",
        "# #ax.set_ylabel('y-label')\n",
        "\n",
        "# # Make some labels.\n",
        "# rects = ax.patches\n",
        "# label = unique_list\n",
        "\n",
        "# for rect, label in zip(rects, label):\n",
        "#     height = rect.get_height()\n",
        "#     ax.text(rect.get_x() + rect.get_width() / 2, -1, label,\n",
        "#             ha='center', va='bottom')\n",
        "# ax.axes.get_xaxis().set_ticks([])\n",
        "# ax.bar_label(bars)\n",
        "# plt.savefig('GTSRB Dataset test classes distribution.png')\n",
        "# # Show plot\n",
        "# plt.show()\n",
        "\n",
        "# print(counts)"
      ],
      "metadata": {
        "execution": {
          "iopub.status.busy": "2023-11-21T15:52:33.580422Z",
          "iopub.execute_input": "2023-11-21T15:52:33.581005Z",
          "iopub.status.idle": "2023-11-21T15:52:34.552891Z",
          "shell.execute_reply.started": "2023-11-21T15:52:33.580961Z",
          "shell.execute_reply": "2023-11-21T15:52:34.551399Z"
        },
        "trusted": true,
        "id": "lQ8zgDhS5B0M"
      },
      "execution_count": null,
      "outputs": []
    },
    {
      "cell_type": "code",
      "source": [
        "fig,ax=plt.subplots(3,4)\n",
        "fig.set_size_inches(16,12)\n",
        "img,y = train_dataset.next()\n",
        "for i in range(3):\n",
        "    for j in range (4):\n",
        "        l=rn.randint(0,batch_size-1)\n",
        "        label = classes[int(list(train_dataset.class_indices.keys())[np.argmax(y[l])])]\n",
        "        ax[i,j].imshow(img[l])\n",
        "        ax[i,j].set_title(label)\n",
        "\n",
        "plt.tight_layout()"
      ],
      "metadata": {
        "execution": {
          "iopub.status.busy": "2023-11-14T11:01:43.34175Z",
          "iopub.execute_input": "2023-11-14T11:01:43.342778Z",
          "iopub.status.idle": "2023-11-14T11:01:48.511577Z",
          "shell.execute_reply.started": "2023-11-14T11:01:43.342737Z",
          "shell.execute_reply": "2023-11-14T11:01:48.510517Z"
        },
        "trusted": true,
        "id": "8QdoXgym5B0M"
      },
      "execution_count": null,
      "outputs": []
    },
    {
      "cell_type": "code",
      "source": [
        "def map_pred(pred):\n",
        "    return [int(list(train_dataset.class_indices.keys())[i]) for i in pred]\n",
        "test_df = pd.read_csv(data_dir + 'Test.csv')\n",
        "\n",
        "test_labels = test_df[\"ClassId\"].values\n",
        "imgs = test_df[\"Path\"].values\n",
        "\n",
        "data =[]\n",
        "\n",
        "for img in imgs:\n",
        "    try:\n",
        "        image = cv2.imread(data_dir +img,cv2.IMREAD_GRAYSCALE)\n",
        "        image_fromarray = Image.fromarray(image, 'L')\n",
        "        resize_image = image_fromarray.resize((height, width))\n",
        "        resize_image = np.array(resize_image)\n",
        "        resize_image = equalize(resize_image)\n",
        "        data.append(resize_image)\n",
        "    except  Exception as e:\n",
        "        print(\"Error in \" + img)\n",
        "        print(e)\n",
        "X_test = np.array(data)\n",
        "#X_test = tf.expand_dims(X_test, axis=-1)\n",
        "X_test = X_test/255"
      ],
      "metadata": {
        "execution": {
          "iopub.status.busy": "2023-11-11T11:01:29.595886Z",
          "iopub.status.idle": "2023-11-11T11:01:29.596369Z",
          "shell.execute_reply.started": "2023-11-11T11:01:29.59611Z",
          "shell.execute_reply": "2023-11-11T11:01:29.596133Z"
        },
        "trusted": true,
        "id": "0c0bZBX25B0M"
      },
      "execution_count": null,
      "outputs": []
    },
    {
      "cell_type": "markdown",
      "source": [
        "# LeNet Model"
      ],
      "metadata": {
        "id": "1M1kc4cW5B0M"
      }
    },
    {
      "cell_type": "code",
      "source": [
        "from tensorflow.keras.callbacks import ModelCheckpoint\n",
        "checkpoint = ModelCheckpoint(\"LeNet.h5\", monitor=\"val_loss\",save_best_only=True, verbose=1)\n",
        "callbacks = [checkpoint]"
      ],
      "metadata": {
        "execution": {
          "iopub.status.busy": "2023-11-11T11:01:29.602856Z",
          "iopub.status.idle": "2023-11-11T11:01:29.603652Z",
          "shell.execute_reply.started": "2023-11-11T11:01:29.603383Z",
          "shell.execute_reply": "2023-11-11T11:01:29.603408Z"
        },
        "trusted": true,
        "id": "iccSJ7PQ5B0O"
      },
      "execution_count": null,
      "outputs": []
    },
    {
      "cell_type": "code",
      "source": [
        "model = keras.models.Sequential([\n",
        "    keras.layers.Conv2D(filters=60, kernel_size=(5,5), activation='relu', input_shape=(height,width,1)),\n",
        "    keras.layers.Conv2D(filters=60, kernel_size=(5,5), activation='relu'),\n",
        "    keras.layers.MaxPool2D(pool_size=(2, 2)),\n",
        "    keras.layers.BatchNormalization(axis=-1),\n",
        "\n",
        "    keras.layers.Conv2D(filters=30, kernel_size=(3,3), activation='relu'),\n",
        "    keras.layers.Conv2D(filters=30, kernel_size=(3,3), activation='relu'),\n",
        "    keras.layers.MaxPool2D(pool_size=(2, 2)),\n",
        "    keras.layers.BatchNormalization(axis=-1),\n",
        "\n",
        "    keras.layers.Dropout(rate=0.25),\n",
        "    keras.layers.Flatten(),\n",
        "    keras.layers.Dense(500, activation='relu'),\n",
        "    keras.layers.BatchNormalization(),\n",
        "    keras.layers.Dropout(rate=0.5),\n",
        "\n",
        "    keras.layers.Dense(43, activation='softmax')\n",
        "])"
      ],
      "metadata": {
        "execution": {
          "iopub.status.busy": "2023-11-11T11:01:29.605308Z",
          "iopub.status.idle": "2023-11-11T11:01:29.605701Z",
          "shell.execute_reply.started": "2023-11-11T11:01:29.605494Z",
          "shell.execute_reply": "2023-11-11T11:01:29.605511Z"
        },
        "trusted": true,
        "id": "oz9a4v1J5B0P"
      },
      "execution_count": null,
      "outputs": []
    },
    {
      "cell_type": "code",
      "source": [
        "model.summary()\n"
      ],
      "metadata": {
        "execution": {
          "iopub.status.busy": "2023-11-11T11:01:29.607116Z",
          "iopub.status.idle": "2023-11-11T11:01:29.607482Z",
          "shell.execute_reply.started": "2023-11-11T11:01:29.607304Z",
          "shell.execute_reply": "2023-11-11T11:01:29.607322Z"
        },
        "trusted": true,
        "id": "kzltbI6t5B0P"
      },
      "execution_count": null,
      "outputs": []
    },
    {
      "cell_type": "code",
      "source": [
        "alpha=0.01\n",
        "epochs=20\n",
        "optim = keras.optimizers.Adam(learning_rate=alpha)\n",
        "model.compile(optimizer = optim, loss = 'categorical_crossentropy', metrics = ['accuracy'])\n"
      ],
      "metadata": {
        "execution": {
          "iopub.status.busy": "2023-11-11T11:01:29.608622Z",
          "iopub.status.idle": "2023-11-11T11:01:29.608981Z",
          "shell.execute_reply.started": "2023-11-11T11:01:29.608812Z",
          "shell.execute_reply": "2023-11-11T11:01:29.608828Z"
        },
        "trusted": true,
        "id": "cg3H5IRs5B0P"
      },
      "execution_count": null,
      "outputs": []
    },
    {
      "cell_type": "code",
      "source": [
        "history = model.fit(train_dataset,\n",
        "                    steps_per_epoch=len(train_dataset),\n",
        "                    epochs=epochs,\n",
        "                    validation_data=test_dataset,\n",
        "                    validation_steps=len(test_dataset),\n",
        "                    callbacks=callbacks)\n"
      ],
      "metadata": {
        "execution": {
          "iopub.status.busy": "2023-11-11T11:01:29.61017Z",
          "iopub.status.idle": "2023-11-11T11:01:29.610495Z",
          "shell.execute_reply.started": "2023-11-11T11:01:29.610329Z",
          "shell.execute_reply": "2023-11-11T11:01:29.610344Z"
        },
        "trusted": true,
        "id": "ggBarV_F5B0P"
      },
      "execution_count": null,
      "outputs": []
    },
    {
      "cell_type": "code",
      "source": [
        "fig,ax=plt.subplots(1,2)\n",
        "fig.set_size_inches(16,12)\n",
        "performance = pd.DataFrame(history.history)\n",
        "plt.figure(figsize=(10,7))\n",
        "ax[1].plot(performance[['loss','val_loss']])\n",
        "ax[1].legend(['Training Loss', 'Validation Loss'])\n",
        "ax[1].set_title('Model Loss')\n",
        "ax[1].set_xlabel('Epochs')\n",
        "ax[1].set_ylabel('Loss')\n",
        "ax[1].set_ylim(0,1)\n",
        "ax[0].plot(performance[['accuracy','val_accuracy']])\n",
        "ax[0].legend(['Training Accuracy', 'Validation Accuracy'])\n",
        "ax[0].set_title('Model Accuracy')\n",
        "ax[0].set_xlabel('Epochs')\n",
        "ax[0].set_ylabel('Accuracy')\n",
        "ax[0].set_ylim(0.5,1)\n",
        "fig.suptitle('Custom CNN Performance')\n",
        "plt.show()"
      ],
      "metadata": {
        "execution": {
          "iopub.status.busy": "2023-11-11T11:01:29.611981Z",
          "iopub.status.idle": "2023-11-11T11:01:29.612325Z",
          "shell.execute_reply.started": "2023-11-11T11:01:29.612153Z",
          "shell.execute_reply": "2023-11-11T11:01:29.612169Z"
        },
        "trusted": true,
        "id": "BDVZmNr25B0P"
      },
      "execution_count": null,
      "outputs": []
    },
    {
      "cell_type": "code",
      "source": [
        "from tensorflow.keras.models import load_model\n",
        "savedModel=load_model('/kaggle/working/LeNet.h5')"
      ],
      "metadata": {
        "execution": {
          "iopub.status.busy": "2023-11-11T11:01:29.61348Z",
          "iopub.status.idle": "2023-11-11T11:01:29.613834Z",
          "shell.execute_reply.started": "2023-11-11T11:01:29.613637Z",
          "shell.execute_reply": "2023-11-11T11:01:29.613652Z"
        },
        "trusted": true,
        "id": "voho7JKX5B0P"
      },
      "execution_count": null,
      "outputs": []
    },
    {
      "cell_type": "code",
      "source": [
        "from sklearn.metrics import accuracy_score\n",
        "pred = savedModel.predict(X_test)\n",
        "pred = map_pred(pred.argmax(axis=-1))\n",
        "print('Test Data accuracy: ',accuracy_score(test_labels, pred)*100)"
      ],
      "metadata": {
        "execution": {
          "iopub.status.busy": "2023-11-11T11:01:29.615312Z",
          "iopub.status.idle": "2023-11-11T11:01:29.615708Z",
          "shell.execute_reply.started": "2023-11-11T11:01:29.615496Z",
          "shell.execute_reply": "2023-11-11T11:01:29.615514Z"
        },
        "trusted": true,
        "id": "3rKdoS4v5B0Q"
      },
      "execution_count": null,
      "outputs": []
    },
    {
      "cell_type": "code",
      "source": [
        "fig,ax=plt.subplots(3,4)\n",
        "fig.set_size_inches(16,12)\n",
        "val_images, val_labels = test_dataset.next()\n",
        "predicted = model.predict(val_images)\n",
        "predicts = map_pred(np.argmax(predicted, axis=-1))\n",
        "labels = map_pred(np.argmax(val_labels, axis=-1))\n",
        "\n",
        "for i in range(3):\n",
        "    for j in range (4):\n",
        "        idx=rn.randint(0,batch_size-1)\n",
        "        ax[i,j].imshow(val_images[idx])\n",
        "        if labels[idx] == predicts[idx]:\n",
        "            ax[i,j].set_title('Actual: '+classes[labels[idx]]+'  \\nPredicted: '+classes[predicts[idx]], color = 'green')\n",
        "        else:\n",
        "            ax[i,j].set_title('Actual: '+classes[labels[idx]]+'  \\nPredicted: '+classes[predicts[idx]], color = 'red')\n",
        "\n",
        "plt.tight_layout()"
      ],
      "metadata": {
        "execution": {
          "iopub.status.busy": "2023-11-11T11:01:29.617571Z",
          "iopub.status.idle": "2023-11-11T11:01:29.618077Z",
          "shell.execute_reply.started": "2023-11-11T11:01:29.61782Z",
          "shell.execute_reply": "2023-11-11T11:01:29.617844Z"
        },
        "trusted": true,
        "id": "lsdcLavz5B0Q"
      },
      "execution_count": null,
      "outputs": []
    },
    {
      "cell_type": "code",
      "source": [],
      "metadata": {
        "id": "zOxKQUa_5B0Q"
      },
      "execution_count": null,
      "outputs": []
    },
    {
      "cell_type": "markdown",
      "source": [
        "# VGG16 Model"
      ],
      "metadata": {
        "id": "-FVHGvIA5B0Q"
      }
    },
    {
      "cell_type": "code",
      "source": [
        "vgg_model = tf.keras.Sequential([VGG16(weights=None, include_top=False, input_shape=(height,width,1)),\n",
        "                                 keras.layers.BatchNormalization(),\n",
        "                                 keras.layers.Flatten(),\n",
        "                                 keras.layers.Dense(512, activation='sigmoid'),\n",
        "                                 keras.layers.Dense(43, activation='softmax')\n",
        "                                ])\n",
        "\n",
        "vgg_model.summary()"
      ],
      "metadata": {
        "trusted": true,
        "id": "uIQyKtmI5B0R"
      },
      "execution_count": null,
      "outputs": []
    },
    {
      "cell_type": "code",
      "source": [
        "alpha=0.001\n",
        "epochs=20\n",
        "optim = keras.optimizers.Adam(learning_rate=alpha)\n",
        "vgg_model.compile(optimizer = optim, loss = 'categorical_crossentropy', metrics = ['accuracy'])"
      ],
      "metadata": {
        "trusted": true,
        "id": "4IUcKfjR5B0R"
      },
      "execution_count": null,
      "outputs": []
    },
    {
      "cell_type": "code",
      "source": [
        "checkpoint = ModelCheckpoint(\"VGG16.h5\", monitor=\"val_loss\",save_best_only=True, verbose=1)\n",
        "callbacks = [checkpoint]"
      ],
      "metadata": {
        "trusted": true,
        "id": "uT8QV_Ls5B0R"
      },
      "execution_count": null,
      "outputs": []
    },
    {
      "cell_type": "code",
      "source": [
        "vgg_history = vgg_model.fit(train_dataset,\n",
        "                        steps_per_epoch=len(train_dataset),\n",
        "                        epochs=epochs,\n",
        "                        validation_data=test_dataset,\n",
        "                        validation_steps=len(test_dataset),\n",
        "                        callbacks=callbacks)"
      ],
      "metadata": {
        "execution": {
          "iopub.status.busy": "2023-11-11T11:01:29.624945Z",
          "iopub.status.idle": "2023-11-11T11:01:29.625278Z",
          "shell.execute_reply.started": "2023-11-11T11:01:29.625104Z",
          "shell.execute_reply": "2023-11-11T11:01:29.625119Z"
        },
        "trusted": true,
        "id": "7CSH0DUf5B0S"
      },
      "execution_count": null,
      "outputs": []
    },
    {
      "cell_type": "code",
      "source": [
        "fig,ax=plt.subplots(1,2)\n",
        "fig.set_size_inches(16,12)\n",
        "performance = pd.DataFrame(vgg_history.history)\n",
        "plt.figure(figsize=(10,7))\n",
        "ax[1].plot(performance[['loss','val_loss']])\n",
        "ax[1].legend(['Training Loss', 'Validation Loss'])\n",
        "ax[1].set_title('Model Loss')\n",
        "ax[1].set_xlabel('Epochs')\n",
        "ax[1].set_ylabel('Loss')\n",
        "ax[1].set_ylim(0,1)\n",
        "ax[0].plot(performance[['accuracy','val_accuracy']])\n",
        "ax[0].legend(['Training Accuracy', 'Validation Accuracy'])\n",
        "ax[0].set_title('Model Accuracy')\n",
        "ax[0].set_xlabel('Epochs')\n",
        "ax[0].set_ylabel('Accuracy')\n",
        "ax[0].set_ylim(0.5,1)\n",
        "fig.suptitle('VGG19 Performance')\n",
        "plt.show()"
      ],
      "metadata": {
        "execution": {
          "iopub.status.busy": "2023-11-11T11:01:29.627171Z",
          "iopub.status.idle": "2023-11-11T11:01:29.627688Z",
          "shell.execute_reply.started": "2023-11-11T11:01:29.627401Z",
          "shell.execute_reply": "2023-11-11T11:01:29.627425Z"
        },
        "trusted": true,
        "id": "rb1IRP1m5B0S"
      },
      "execution_count": null,
      "outputs": []
    },
    {
      "cell_type": "code",
      "source": [
        "from sklearn.metrics import accuracy_score\n",
        "pred = vgg_model.predict(X_test)\n",
        "pred = map_pred(pred.argmax(axis=-1))\n",
        "print('Test Data accuracy: ',accuracy_score(test_labels, pred)*100)"
      ],
      "metadata": {
        "execution": {
          "iopub.status.busy": "2023-11-11T11:01:29.629818Z",
          "iopub.status.idle": "2023-11-11T11:01:29.630157Z",
          "shell.execute_reply.started": "2023-11-11T11:01:29.629982Z",
          "shell.execute_reply": "2023-11-11T11:01:29.629997Z"
        },
        "trusted": true,
        "id": "qts2z2Y25B0S"
      },
      "execution_count": null,
      "outputs": []
    },
    {
      "cell_type": "code",
      "source": [
        "from tensorflow.keras.models import load_model\n",
        "savedModel=load_model('/kaggle/working/VGG16.h5')"
      ],
      "metadata": {
        "execution": {
          "iopub.status.busy": "2023-11-11T11:01:29.63142Z",
          "iopub.status.idle": "2023-11-11T11:01:29.631777Z",
          "shell.execute_reply.started": "2023-11-11T11:01:29.63158Z",
          "shell.execute_reply": "2023-11-11T11:01:29.631595Z"
        },
        "trusted": true,
        "id": "H85fs5Cn5B0S"
      },
      "execution_count": null,
      "outputs": []
    },
    {
      "cell_type": "code",
      "source": [
        "fig,ax=plt.subplots(3,4)\n",
        "fig.set_size_inches(16,12)\n",
        "val_images, val_labels = test_dataset.next()\n",
        "predicted = vgg_model.predict(val_images)\n",
        "predicts = map_pred(np.argmax(predicted, axis=-1))\n",
        "labels = map_pred(np.argmax(val_labels, axis=-1))\n",
        "for i in range(3):\n",
        "    for j in range (4):\n",
        "        idx=rn.randint(0,batch_size-1)\n",
        "        ax[i,j].imshow(val_images[idx])\n",
        "        if labels[idx] == predicts[idx]:\n",
        "            ax[i,j].set_title('Actual: '+classes[labels[idx]]+'  \\nPredicted: '+classes[predicts[idx]], color = 'green')\n",
        "        else:\n",
        "            ax[i,j].set_title('Actual: '+classes[labels[idx]]+'  \\nPredicted: '+classes[predicts[idx]], color = 'red')\n",
        "\n",
        "plt.tight_layout()"
      ],
      "metadata": {
        "execution": {
          "iopub.status.busy": "2023-11-11T11:01:29.632928Z",
          "iopub.status.idle": "2023-11-11T11:01:29.633282Z",
          "shell.execute_reply.started": "2023-11-11T11:01:29.633102Z",
          "shell.execute_reply": "2023-11-11T11:01:29.633119Z"
        },
        "trusted": true,
        "id": "dDjqNTsC5B0S"
      },
      "execution_count": null,
      "outputs": []
    },
    {
      "cell_type": "markdown",
      "source": [
        "# VGG19 Model"
      ],
      "metadata": {
        "id": "OgRjmri45B0S"
      }
    },
    {
      "cell_type": "code",
      "source": [
        "vgg_model = tf.keras.Sequential([VGG19(weights=None, include_top=False, input_shape=(height,width,1)),\n",
        "                                 keras.layers.BatchNormalization(),\n",
        "                                 keras.layers.Flatten(),\n",
        "                                 keras.layers.Dense(512, activation='sigmoid'),\n",
        "                                 keras.layers.Dense(43, activation='softmax')\n",
        "                                ])\n",
        "\n",
        "vgg_model.summary()"
      ],
      "metadata": {
        "trusted": true,
        "id": "3ex2JH_05B0S"
      },
      "execution_count": null,
      "outputs": []
    },
    {
      "cell_type": "code",
      "source": [
        "alpha=0.001\n",
        "epochs=20\n",
        "optim = keras.optimizers.Adam(learning_rate=alpha)\n",
        "vgg_model.compile(optimizer = optim, loss = 'categorical_crossentropy', metrics = ['accuracy'])"
      ],
      "metadata": {
        "trusted": true,
        "id": "GbxBjPT_5B0T"
      },
      "execution_count": null,
      "outputs": []
    },
    {
      "cell_type": "code",
      "source": [
        "checkpoint = ModelCheckpoint(\"VGG19.h5\", monitor=\"val_loss\",save_best_only=True, verbose=1)\n",
        "callbacks = [checkpoint]"
      ],
      "metadata": {
        "trusted": true,
        "id": "cnK0Zju25B0T"
      },
      "execution_count": null,
      "outputs": []
    },
    {
      "cell_type": "code",
      "source": [
        "vgg_history = vgg_model.fit(train_dataset,\n",
        "                        steps_per_epoch=len(train_dataset),\n",
        "                        epochs=epochs,\n",
        "                        validation_data=test_dataset,\n",
        "                        validation_steps=len(test_dataset),\n",
        "                        callbacks=callbacks)"
      ],
      "metadata": {
        "execution": {
          "iopub.status.busy": "2023-11-11T11:01:29.624945Z",
          "iopub.status.idle": "2023-11-11T11:01:29.625278Z",
          "shell.execute_reply.started": "2023-11-11T11:01:29.625104Z",
          "shell.execute_reply": "2023-11-11T11:01:29.625119Z"
        },
        "trusted": true,
        "id": "GMCt59Rc5B0T"
      },
      "execution_count": null,
      "outputs": []
    },
    {
      "cell_type": "code",
      "source": [
        "fig,ax=plt.subplots(1,2)\n",
        "fig.set_size_inches(16,12)\n",
        "performance = pd.DataFrame(vgg_history.history)\n",
        "plt.figure(figsize=(10,7))\n",
        "ax[1].plot(performance[['loss','val_loss']])\n",
        "ax[1].legend(['Training Loss', 'Validation Loss'])\n",
        "ax[1].set_title('Model Loss')\n",
        "ax[1].set_xlabel('Epochs')\n",
        "ax[1].set_ylabel('Loss')\n",
        "ax[1].set_ylim(0,1)\n",
        "ax[0].plot(performance[['accuracy','val_accuracy']])\n",
        "ax[0].legend(['Training Accuracy', 'Validation Accuracy'])\n",
        "ax[0].set_title('Model Accuracy')\n",
        "ax[0].set_xlabel('Epochs')\n",
        "ax[0].set_ylabel('Accuracy')\n",
        "ax[0].set_ylim(0.5,1)\n",
        "fig.suptitle('VGG19 Performance')\n",
        "plt.show()"
      ],
      "metadata": {
        "execution": {
          "iopub.status.busy": "2023-11-11T11:01:29.627171Z",
          "iopub.status.idle": "2023-11-11T11:01:29.627688Z",
          "shell.execute_reply.started": "2023-11-11T11:01:29.627401Z",
          "shell.execute_reply": "2023-11-11T11:01:29.627425Z"
        },
        "trusted": true,
        "id": "hICr3Gvf5B0T"
      },
      "execution_count": null,
      "outputs": []
    },
    {
      "cell_type": "code",
      "source": [
        "from sklearn.metrics import accuracy_score\n",
        "pred = vgg_model.predict(X_test)\n",
        "pred = map_pred(pred.argmax(axis=-1))\n",
        "print('Test Data accuracy: ',accuracy_score(test_labels, pred)*100)"
      ],
      "metadata": {
        "execution": {
          "iopub.status.busy": "2023-11-11T11:01:29.629818Z",
          "iopub.status.idle": "2023-11-11T11:01:29.630157Z",
          "shell.execute_reply.started": "2023-11-11T11:01:29.629982Z",
          "shell.execute_reply": "2023-11-11T11:01:29.629997Z"
        },
        "trusted": true,
        "id": "7QiNDUHs5B0X"
      },
      "execution_count": null,
      "outputs": []
    },
    {
      "cell_type": "code",
      "source": [
        "from tensorflow.keras.models import load_model\n",
        "savedModel=load_model('/kaggle/working/VGG19.h5')"
      ],
      "metadata": {
        "execution": {
          "iopub.status.busy": "2023-11-11T11:01:29.63142Z",
          "iopub.status.idle": "2023-11-11T11:01:29.631777Z",
          "shell.execute_reply.started": "2023-11-11T11:01:29.63158Z",
          "shell.execute_reply": "2023-11-11T11:01:29.631595Z"
        },
        "trusted": true,
        "id": "SLSTJPDp5B0Y"
      },
      "execution_count": null,
      "outputs": []
    },
    {
      "cell_type": "code",
      "source": [
        "fig,ax=plt.subplots(3,4)\n",
        "fig.set_size_inches(16,12)\n",
        "val_images, val_labels = test_dataset.next()\n",
        "predicted = vgg_model.predict(val_images)\n",
        "predicts = map_pred(np.argmax(predicted, axis=-1))\n",
        "labels = map_pred(np.argmax(val_labels, axis=-1))\n",
        "for i in range(3):\n",
        "    for j in range (4):\n",
        "        idx=rn.randint(0,batch_size-1)\n",
        "        ax[i,j].imshow(val_images[idx])\n",
        "        if labels[idx] == predicts[idx]:\n",
        "            ax[i,j].set_title('Actual: '+classes[labels[idx]]+'  \\nPredicted: '+classes[predicts[idx]], color = 'green')\n",
        "        else:\n",
        "            ax[i,j].set_title('Actual: '+classes[labels[idx]]+'  \\nPredicted: '+classes[predicts[idx]], color = 'red')\n",
        "\n",
        "plt.tight_layout()"
      ],
      "metadata": {
        "execution": {
          "iopub.status.busy": "2023-11-11T11:01:29.632928Z",
          "iopub.status.idle": "2023-11-11T11:01:29.633282Z",
          "shell.execute_reply.started": "2023-11-11T11:01:29.633102Z",
          "shell.execute_reply": "2023-11-11T11:01:29.633119Z"
        },
        "trusted": true,
        "id": "aQPUW66S5B0Y"
      },
      "execution_count": null,
      "outputs": []
    },
    {
      "cell_type": "code",
      "source": [],
      "metadata": {
        "id": "zJMqoZIJ5B0Y"
      },
      "execution_count": null,
      "outputs": []
    },
    {
      "cell_type": "markdown",
      "source": [
        "# ResNet50 Model"
      ],
      "metadata": {
        "id": "T2xqWNiv5B0Y"
      }
    },
    {
      "cell_type": "code",
      "source": [
        "vgg_model = tf.keras.Sequential([ResNet50(weights=None, include_top=False, input_shape=(height,width,1)),\n",
        "                                 keras.layers.BatchNormalization(),\n",
        "                                 keras.layers.Flatten(),\n",
        "                                 keras.layers.Dense(512, activation='sigmoid'),\n",
        "                                 keras.layers.Dense(43, activation='softmax')\n",
        "                                ])\n",
        "\n",
        "vgg_model.summary()"
      ],
      "metadata": {
        "id": "KvwaO1Oe5B0Y"
      },
      "execution_count": null,
      "outputs": []
    },
    {
      "cell_type": "code",
      "source": [
        "alpha=0.001\n",
        "epochs=20\n",
        "optim = keras.optimizers.Adam(learning_rate=alpha)\n",
        "vgg_model.compile(optimizer = optim, loss = 'categorical_crossentropy', metrics = ['accuracy'])"
      ],
      "metadata": {
        "id": "-hYb0uCG5B0Y"
      },
      "execution_count": null,
      "outputs": []
    },
    {
      "cell_type": "code",
      "source": [
        "checkpoint = ModelCheckpoint(\"ResNet50.h5\", monitor=\"val_loss\",save_best_only=True, verbose=1)\n",
        "callbacks = [checkpoint]"
      ],
      "metadata": {
        "id": "piUKwka25B0Y"
      },
      "execution_count": null,
      "outputs": []
    },
    {
      "cell_type": "code",
      "source": [
        "vgg_history = vgg_model.fit(train_dataset,\n",
        "                        steps_per_epoch=len(train_dataset),\n",
        "                        epochs=epochs,\n",
        "                        validation_data=test_dataset,\n",
        "                        validation_steps=len(test_dataset),\n",
        "                        callbacks=callbacks)"
      ],
      "metadata": {
        "execution": {
          "iopub.status.busy": "2023-11-11T11:01:29.624945Z",
          "iopub.status.idle": "2023-11-11T11:01:29.625278Z",
          "shell.execute_reply.started": "2023-11-11T11:01:29.625104Z",
          "shell.execute_reply": "2023-11-11T11:01:29.625119Z"
        },
        "id": "j7RjpG0l5B0Y"
      },
      "execution_count": null,
      "outputs": []
    },
    {
      "cell_type": "code",
      "source": [
        "fig,ax=plt.subplots(1,2)\n",
        "fig.set_size_inches(16,12)\n",
        "performance = pd.DataFrame(vgg_history.history)\n",
        "plt.figure(figsize=(10,7))\n",
        "ax[1].plot(performance[['loss','val_loss']])\n",
        "ax[1].legend(['Training Loss', 'Validation Loss'])\n",
        "ax[1].set_title('Model Loss')\n",
        "ax[1].set_xlabel('Epochs')\n",
        "ax[1].set_ylabel('Loss')\n",
        "ax[1].set_ylim(0,1)\n",
        "ax[0].plot(performance[['accuracy','val_accuracy']])\n",
        "ax[0].legend(['Training Accuracy', 'Validation Accuracy'])\n",
        "ax[0].set_title('Model Accuracy')\n",
        "ax[0].set_xlabel('Epochs')\n",
        "ax[0].set_ylabel('Accuracy')\n",
        "ax[0].set_ylim(0.5,1)\n",
        "fig.suptitle('VGG19 Performance')\n",
        "plt.show()"
      ],
      "metadata": {
        "execution": {
          "iopub.status.busy": "2023-11-11T11:01:29.627171Z",
          "iopub.status.idle": "2023-11-11T11:01:29.627688Z",
          "shell.execute_reply.started": "2023-11-11T11:01:29.627401Z",
          "shell.execute_reply": "2023-11-11T11:01:29.627425Z"
        },
        "id": "az10PAAw5B0Y"
      },
      "execution_count": null,
      "outputs": []
    },
    {
      "cell_type": "code",
      "source": [
        "from sklearn.metrics import accuracy_score\n",
        "pred = vgg_model.predict(X_test)\n",
        "pred = map_pred(pred.argmax(axis=-1))\n",
        "print('Test Data accuracy: ',accuracy_score(test_labels, pred)*100)"
      ],
      "metadata": {
        "execution": {
          "iopub.status.busy": "2023-11-11T11:01:29.629818Z",
          "iopub.status.idle": "2023-11-11T11:01:29.630157Z",
          "shell.execute_reply.started": "2023-11-11T11:01:29.629982Z",
          "shell.execute_reply": "2023-11-11T11:01:29.629997Z"
        },
        "id": "mvdaPri85B0Y"
      },
      "execution_count": null,
      "outputs": []
    },
    {
      "cell_type": "code",
      "source": [
        "from tensorflow.keras.models import load_model\n",
        "savedModel=load_model('/kaggle/working/ResNet50.h5')"
      ],
      "metadata": {
        "execution": {
          "iopub.status.busy": "2023-11-11T11:01:29.63142Z",
          "iopub.status.idle": "2023-11-11T11:01:29.631777Z",
          "shell.execute_reply.started": "2023-11-11T11:01:29.63158Z",
          "shell.execute_reply": "2023-11-11T11:01:29.631595Z"
        },
        "id": "9YbwNcJF5B0Z"
      },
      "execution_count": null,
      "outputs": []
    },
    {
      "cell_type": "code",
      "source": [
        "fig,ax=plt.subplots(3,4)\n",
        "fig.set_size_inches(16,12)\n",
        "val_images, val_labels = test_dataset.next()\n",
        "predicted = vgg_model.predict(val_images)\n",
        "predicts = map_pred(np.argmax(predicted, axis=-1))\n",
        "labels = map_pred(np.argmax(val_labels, axis=-1))\n",
        "for i in range(3):\n",
        "    for j in range (4):\n",
        "        idx=rn.randint(0,batch_size-1)\n",
        "        ax[i,j].imshow(val_images[idx])\n",
        "        if labels[idx] == predicts[idx]:\n",
        "            ax[i,j].set_title('Actual: '+classes[labels[idx]]+'  \\nPredicted: '+classes[predicts[idx]], color = 'green')\n",
        "        else:\n",
        "            ax[i,j].set_title('Actual: '+classes[labels[idx]]+'  \\nPredicted: '+classes[predicts[idx]], color = 'red')\n",
        "\n",
        "plt.tight_layout()"
      ],
      "metadata": {
        "execution": {
          "iopub.status.busy": "2023-11-11T11:01:29.632928Z",
          "iopub.status.idle": "2023-11-11T11:01:29.633282Z",
          "shell.execute_reply.started": "2023-11-11T11:01:29.633102Z",
          "shell.execute_reply": "2023-11-11T11:01:29.633119Z"
        },
        "id": "fM0A4ttj5B0Z"
      },
      "execution_count": null,
      "outputs": []
    }
  ]
}