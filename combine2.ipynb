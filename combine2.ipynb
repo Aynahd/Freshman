{
  "metadata": {
    "kernelspec": {
      "language": "python",
      "display_name": "Python 3",
      "name": "python3"
    },
    "language_info": {
      "pygments_lexer": "ipython3",
      "nbconvert_exporter": "python",
      "version": "3.6.4",
      "file_extension": ".py",
      "codemirror_mode": {
        "name": "ipython",
        "version": 3
      },
      "name": "python",
      "mimetype": "text/x-python"
    },
    "colab": {
      "name": "combine2",
      "provenance": [],
      "include_colab_link": true
    }
  },
  "nbformat_minor": 0,
  "nbformat": 4,
  "cells": [
    {
      "cell_type": "markdown",
      "metadata": {
        "id": "view-in-github",
        "colab_type": "text"
      },
      "source": [
        "<a href=\"https://colab.research.google.com/github/Aynahd/Y24/blob/main/combine2.ipynb\" target=\"_parent\"><img src=\"https://colab.research.google.com/assets/colab-badge.svg\" alt=\"Open In Colab\"/></a>"
      ]
    },
    {
      "source": [
        "\n",
        "# IMPORTANT: RUN THIS CELL IN ORDER TO IMPORT YOUR KAGGLE DATA SOURCES\n",
        "# TO THE CORRECT LOCATION (/kaggle/input) IN YOUR NOTEBOOK,\n",
        "# THEN FEEL FREE TO DELETE THIS CELL.\n",
        "# NOTE: THIS NOTEBOOK ENVIRONMENT DIFFERS FROM KAGGLE'S PYTHON\n",
        "# ENVIRONMENT SO THERE MAY BE MISSING LIBRARIES USED BY YOUR\n",
        "# NOTEBOOK.\n",
        "\n",
        "import os\n",
        "import sys\n",
        "from tempfile import NamedTemporaryFile\n",
        "from urllib.request import urlopen\n",
        "from urllib.parse import unquote, urlparse\n",
        "from urllib.error import HTTPError\n",
        "from zipfile import ZipFile\n",
        "import tarfile\n",
        "import shutil\n",
        "\n",
        "CHUNK_SIZE = 40960\n",
        "DATA_SOURCE_MAPPING = 'german-traffic-sign-detection-benchmark-gtsdb:https%3A%2F%2Fstorage.googleapis.com%2Fkaggle-data-sets%2F985376%2F1664166%2Fbundle%2Farchive.zip%3FX-Goog-Algorithm%3DGOOG4-RSA-SHA256%26X-Goog-Credential%3Dgcp-kaggle-com%2540kaggle-161607.iam.gserviceaccount.com%252F20240508%252Fauto%252Fstorage%252Fgoog4_request%26X-Goog-Date%3D20240508T082329Z%26X-Goog-Expires%3D259200%26X-Goog-SignedHeaders%3Dhost%26X-Goog-Signature%3D30615becf4d5d4e9043080da744bb794b8edd631b0cd4468346282ffd606586d8de30479cc6a599b4dbafbab4c26321a5fab78f1ab73045e5400ca0397598c7ceb823c9fd0142e66108c48d03ee7f04af56909ddcb3589fa420b3c0bf7ba5a67c92ad5436a475ec203d0af02417e7872259ead76c1cd2bab97e30e7d791838aefa0955040644bab4c9a084869df92e2d091e06c94eeddc8e55e676d9505c9a574b1d1998ca3397e695b3a1a155c0cdd08878fe9a5a2603b53e41c73cb0887ad88565c9377cee0592be8e7be71d33fd1d52bf4deeeaa8134316317b01c9eccd483a4c0dcca944d47e7c43dad462f2341079fb2ce63d215ab2621dbb3f3f026dd7,models1:https%3A%2F%2Fstorage.googleapis.com%2Fkaggle-data-sets%2F3879927%2F6745249%2Fbundle%2Farchive.zip%3FX-Goog-Algorithm%3DGOOG4-RSA-SHA256%26X-Goog-Credential%3Dgcp-kaggle-com%2540kaggle-161607.iam.gserviceaccount.com%252F20240508%252Fauto%252Fstorage%252Fgoog4_request%26X-Goog-Date%3D20240508T082329Z%26X-Goog-Expires%3D259200%26X-Goog-SignedHeaders%3Dhost%26X-Goog-Signature%3D25023bf7f1adb7c19e5e41d0e8ab0f44d003f675695cbd5e828176c338df2eac9138a226d874392f3d44e439f66e837227aceb73e3e9e04351135f5f13674704ff90c4d4ad4817261419a989ab0f959d9eed4f3adfc35914df8ecc8dd1d05561d75213743192268d0c8adfafac71dd29afd3842d26c20d2c4d4d70793393235e2c9a402edab9b65ec993087118879b6ed4a35bb39202b3785b22dae9442ac6748ce5410b154c810a1a36ac2ed5048bd4d4c0dfc77af1e6002d3c70982c08ee3be45935cb7cf596887157e2cf3253c254b08655f5b102abec747e18648c63ebf28ba58ebabd7c6a750afab9c3f5ebe7bc5685100b18924f6af4063db4bfca3c52'\n",
        "\n",
        "KAGGLE_INPUT_PATH='/kaggle/input'\n",
        "KAGGLE_WORKING_PATH='/kaggle/working'\n",
        "KAGGLE_SYMLINK='kaggle'\n",
        "\n",
        "!umount /kaggle/input/ 2> /dev/null\n",
        "shutil.rmtree('/kaggle/input', ignore_errors=True)\n",
        "os.makedirs(KAGGLE_INPUT_PATH, 0o777, exist_ok=True)\n",
        "os.makedirs(KAGGLE_WORKING_PATH, 0o777, exist_ok=True)\n",
        "\n",
        "try:\n",
        "  os.symlink(KAGGLE_INPUT_PATH, os.path.join(\"..\", 'input'), target_is_directory=True)\n",
        "except FileExistsError:\n",
        "  pass\n",
        "try:\n",
        "  os.symlink(KAGGLE_WORKING_PATH, os.path.join(\"..\", 'working'), target_is_directory=True)\n",
        "except FileExistsError:\n",
        "  pass\n",
        "\n",
        "for data_source_mapping in DATA_SOURCE_MAPPING.split(','):\n",
        "    directory, download_url_encoded = data_source_mapping.split(':')\n",
        "    download_url = unquote(download_url_encoded)\n",
        "    filename = urlparse(download_url).path\n",
        "    destination_path = os.path.join(KAGGLE_INPUT_PATH, directory)\n",
        "    try:\n",
        "        with urlopen(download_url) as fileres, NamedTemporaryFile() as tfile:\n",
        "            total_length = fileres.headers['content-length']\n",
        "            print(f'Downloading {directory}, {total_length} bytes compressed')\n",
        "            dl = 0\n",
        "            data = fileres.read(CHUNK_SIZE)\n",
        "            while len(data) > 0:\n",
        "                dl += len(data)\n",
        "                tfile.write(data)\n",
        "                done = int(50 * dl / int(total_length))\n",
        "                sys.stdout.write(f\"\\r[{'=' * done}{' ' * (50-done)}] {dl} bytes downloaded\")\n",
        "                sys.stdout.flush()\n",
        "                data = fileres.read(CHUNK_SIZE)\n",
        "            if filename.endswith('.zip'):\n",
        "              with ZipFile(tfile) as zfile:\n",
        "                zfile.extractall(destination_path)\n",
        "            else:\n",
        "              with tarfile.open(tfile.name) as tarfile:\n",
        "                tarfile.extractall(destination_path)\n",
        "            print(f'\\nDownloaded and uncompressed: {directory}')\n",
        "    except HTTPError as e:\n",
        "        print(f'Failed to load (likely expired) {download_url} to path {destination_path}')\n",
        "        continue\n",
        "    except OSError as e:\n",
        "        print(f'Failed to load {download_url} to path {destination_path}')\n",
        "        continue\n",
        "\n",
        "print('Data source import complete.')\n"
      ],
      "metadata": {
        "id": "dZgzoYI2TQcJ",
        "outputId": "2f3f6743-31f2-4846-eb1c-4e19519be478",
        "colab": {
          "base_uri": "https://localhost:8080/"
        }
      },
      "cell_type": "code",
      "outputs": [
        {
          "output_type": "stream",
          "name": "stdout",
          "text": [
            "Downloading german-traffic-sign-detection-benchmark-gtsdb, 1729369023 bytes compressed\n",
            "[==================================================] 1729369023 bytes downloaded\n",
            "Downloaded and uncompressed: german-traffic-sign-detection-benchmark-gtsdb\n",
            "Downloading models1, 18714046 bytes compressed\n",
            "[==================================================] 18714046 bytes downloaded\n",
            "Downloaded and uncompressed: models1\n",
            "Data source import complete.\n"
          ]
        }
      ],
      "execution_count": 1
    },
    {
      "cell_type": "code",
      "source": [
        "import torch\n",
        "from PIL import Image\n",
        "import shutil\n",
        "import os\n",
        "from random import choice\n",
        "import numpy as np\n",
        "import pandas as pd"
      ],
      "metadata": {
        "pycharm": {
          "name": "#%%\n"
        },
        "jupyter": {
          "outputs_hidden": false
        },
        "execution": {
          "iopub.status.busy": "2023-10-20T09:05:41.949921Z",
          "iopub.execute_input": "2023-10-20T09:05:41.950885Z",
          "iopub.status.idle": "2023-10-20T09:05:41.956031Z",
          "shell.execute_reply.started": "2023-10-20T09:05:41.950845Z",
          "shell.execute_reply": "2023-10-20T09:05:41.954862Z"
        },
        "trusted": true,
        "id": "n16XU4quTQcK"
      },
      "execution_count": 2,
      "outputs": []
    },
    {
      "cell_type": "code",
      "source": [
        "!git clone https://github.com/ultralytics/yolov5"
      ],
      "metadata": {
        "execution": {
          "iopub.status.busy": "2023-10-20T09:05:41.957915Z",
          "iopub.execute_input": "2023-10-20T09:05:41.958229Z",
          "iopub.status.idle": "2023-10-20T09:05:44.464666Z",
          "shell.execute_reply.started": "2023-10-20T09:05:41.9582Z",
          "shell.execute_reply": "2023-10-20T09:05:44.463631Z"
        },
        "trusted": true,
        "id": "0vOGhH5uTQcK",
        "outputId": "493f0a51-471f-4a8f-d297-ec3bf391edee",
        "colab": {
          "base_uri": "https://localhost:8080/"
        }
      },
      "execution_count": 3,
      "outputs": [
        {
          "output_type": "stream",
          "name": "stdout",
          "text": [
            "fatal: destination path 'yolov5' already exists and is not an empty directory.\n"
          ]
        }
      ]
    },
    {
      "cell_type": "code",
      "source": [
        "%cd yolov5/"
      ],
      "metadata": {
        "pycharm": {
          "name": "#%%\n"
        },
        "jupyter": {
          "outputs_hidden": false
        },
        "execution": {
          "iopub.status.busy": "2023-10-20T09:05:44.466036Z",
          "iopub.execute_input": "2023-10-20T09:05:44.466331Z",
          "iopub.status.idle": "2023-10-20T09:05:44.47262Z",
          "shell.execute_reply.started": "2023-10-20T09:05:44.46629Z",
          "shell.execute_reply": "2023-10-20T09:05:44.471775Z"
        },
        "trusted": true,
        "id": "TRIrtzG8TQcK",
        "outputId": "dab8170b-fa7e-43af-fbf9-8a6dd2be7f26",
        "colab": {
          "base_uri": "https://localhost:8080/"
        }
      },
      "execution_count": 4,
      "outputs": [
        {
          "output_type": "stream",
          "name": "stdout",
          "text": [
            "/content/yolov5\n"
          ]
        }
      ]
    },
    {
      "cell_type": "code",
      "source": [
        "# ims = []\n",
        "# for dirname, _, filenames in os.walk('/kaggle/input/german-traffic-sign-detection-benchmark-gtsdb/TestIJCNN2013/TestIJCNN2013Download'):\n",
        "#     for filename in filenames:\n",
        "#         if filename.endswith(\".ppm\"):\n",
        "#             im = Image.open(os.path.join(dirname, filename))\n",
        "#             ims.append(im)"
      ],
      "metadata": {
        "pycharm": {
          "name": "#%%\n"
        },
        "jupyter": {
          "outputs_hidden": false
        },
        "execution": {
          "iopub.status.busy": "2023-10-20T09:05:44.473847Z",
          "iopub.execute_input": "2023-10-20T09:05:44.4741Z",
          "iopub.status.idle": "2023-10-20T09:05:44.482939Z",
          "shell.execute_reply.started": "2023-10-20T09:05:44.47408Z",
          "shell.execute_reply": "2023-10-20T09:05:44.482287Z"
        },
        "trusted": true,
        "id": "hM2CkpzsTQcK"
      },
      "execution_count": 5,
      "outputs": []
    },
    {
      "cell_type": "code",
      "source": [
        "ground_truth = {'boxes':[],'labels':[]}"
      ],
      "metadata": {
        "execution": {
          "iopub.status.busy": "2023-10-20T09:05:44.485875Z",
          "iopub.execute_input": "2023-10-20T09:05:44.486197Z",
          "iopub.status.idle": "2023-10-20T09:05:44.498349Z",
          "shell.execute_reply.started": "2023-10-20T09:05:44.486176Z",
          "shell.execute_reply": "2023-10-20T09:05:44.497678Z"
        },
        "trusted": true,
        "id": "Trb8y9V_TQcK"
      },
      "execution_count": 6,
      "outputs": []
    },
    {
      "cell_type": "code",
      "source": [
        "f = open('/kaggle/input/german-traffic-sign-detection-benchmark-gtsdb/gt.txt')\n",
        "dirname = \"/kaggle/input/german-traffic-sign-detection-benchmark-gtsdb/TrainIJCNN2013/TrainIJCNN2013\"\n",
        "ims = []\n",
        "y_true = []\n",
        "boxs = []\n",
        "labels = []\n",
        "curname = ''\n",
        "for x in f:\n",
        "    datas = x.split(';')\n",
        "    filename = datas[0]\n",
        "    name = datas[0].split('.')[0]\n",
        "    if curname != name:\n",
        "        curname = name\n",
        "        ground_truth['boxes'] = boxs\n",
        "        ground_truth['labels'] = labels\n",
        "        y_true.append(ground_truth)\n",
        "        ground_truth = {'boxes':[],'labels':[]}\n",
        "        boxs = []\n",
        "        labels = []\n",
        "        im = Image.open(os.path.join(dirname, filename))\n",
        "        ims.append(im)\n",
        "    boxs.append([int(i) for i in [datas[1],datas[2],datas[3],datas[4]]])\n",
        "    labels.append(int(datas[5]))\n",
        "ground_truth['boxes'] = boxs\n",
        "ground_truth['labels'] = labels\n",
        "y_true.append(ground_truth)\n",
        "y_true.pop(0)\n",
        "f.close()"
      ],
      "metadata": {
        "execution": {
          "iopub.status.busy": "2023-10-20T09:05:44.499357Z",
          "iopub.execute_input": "2023-10-20T09:05:44.499581Z",
          "iopub.status.idle": "2023-10-20T09:05:45.138413Z",
          "shell.execute_reply.started": "2023-10-20T09:05:44.499562Z",
          "shell.execute_reply": "2023-10-20T09:05:45.137474Z"
        },
        "trusted": true,
        "id": "ni6Darp6TQcK"
      },
      "execution_count": 7,
      "outputs": []
    },
    {
      "cell_type": "code",
      "source": [
        "print(len(y_true),len(ims))\n",
        "print(y_true[505])"
      ],
      "metadata": {
        "pycharm": {
          "name": "#%%\n"
        },
        "jupyter": {
          "outputs_hidden": false
        },
        "execution": {
          "iopub.status.busy": "2023-10-20T09:05:45.140198Z",
          "iopub.execute_input": "2023-10-20T09:05:45.14053Z",
          "iopub.status.idle": "2023-10-20T09:05:45.145185Z",
          "shell.execute_reply.started": "2023-10-20T09:05:45.1405Z",
          "shell.execute_reply": "2023-10-20T09:05:45.144324Z"
        },
        "trusted": true,
        "id": "o-HDMapITQcK",
        "outputId": "91fa1e6a-2fc7-45ad-a04f-26bf5ed5338f",
        "colab": {
          "base_uri": "https://localhost:8080/"
        }
      },
      "execution_count": 8,
      "outputs": [
        {
          "output_type": "stream",
          "name": "stdout",
          "text": [
            "506 506\n",
            "{'boxes': [[700, 454, 722, 476]], 'labels': [9]}\n"
          ]
        }
      ]
    },
    {
      "cell_type": "code",
      "source": [
        "import torch\n",
        "\n",
        "# Model\n",
        "model1 = torch.hub.load('Ultralytics/yolov5', 'custom','/kaggle/input/models1/best.pt', force_reload=True,trust_repo=True)\n",
        "\n",
        "\n",
        "# Inference\n",
        "results = model1(ims)\n",
        "\n",
        "results.pandas()"
      ],
      "metadata": {
        "pycharm": {
          "name": "#%%\n",
          "is_executing": true
        },
        "jupyter": {
          "outputs_hidden": false
        },
        "execution": {
          "iopub.status.busy": "2023-10-20T09:05:45.146913Z",
          "iopub.execute_input": "2023-10-20T09:05:45.147289Z",
          "iopub.status.idle": "2023-10-20T09:05:53.792703Z",
          "shell.execute_reply.started": "2023-10-20T09:05:45.147237Z",
          "shell.execute_reply": "2023-10-20T09:05:53.791718Z"
        },
        "trusted": true,
        "id": "6XIdrLnOTQcK",
        "outputId": "3ca502c8-65a0-4911-a6a5-842f9e4eb30d",
        "colab": {
          "base_uri": "https://localhost:8080/"
        }
      },
      "execution_count": null,
      "outputs": [
        {
          "output_type": "stream",
          "name": "stderr",
          "text": [
            "Downloading: \"https://github.com/Ultralytics/yolov5/zipball/master\" to /root/.cache/torch/hub/master.zip\n",
            "YOLOv5 🚀 2024-5-8 Python-3.10.12 torch-2.2.1+cu121 CPU\n",
            "\n",
            "Fusing layers... \n",
            "Model summary: 157 layers, 7020913 parameters, 0 gradients, 15.8 GFLOPs\n",
            "Adding AutoShape... \n"
          ]
        }
      ]
    },
    {
      "cell_type": "code",
      "source": [
        "results1 = results.pandas().xyxy"
      ],
      "metadata": {
        "pycharm": {
          "name": "#%%\n"
        },
        "jupyter": {
          "outputs_hidden": false
        },
        "execution": {
          "iopub.status.busy": "2023-10-20T09:05:53.79396Z",
          "iopub.execute_input": "2023-10-20T09:05:53.79431Z",
          "iopub.status.idle": "2023-10-20T09:05:54.281418Z",
          "shell.execute_reply.started": "2023-10-20T09:05:53.794285Z",
          "shell.execute_reply": "2023-10-20T09:05:54.280463Z"
        },
        "trusted": true,
        "id": "9AOKEYi2TQcK"
      },
      "execution_count": null,
      "outputs": []
    },
    {
      "cell_type": "code",
      "source": [
        "print(results1[50])"
      ],
      "metadata": {
        "execution": {
          "iopub.status.busy": "2023-10-20T09:05:54.283265Z",
          "iopub.execute_input": "2023-10-20T09:05:54.283549Z",
          "iopub.status.idle": "2023-10-20T09:05:54.29074Z",
          "shell.execute_reply.started": "2023-10-20T09:05:54.283527Z",
          "shell.execute_reply": "2023-10-20T09:05:54.289843Z"
        },
        "trusted": true,
        "id": "WXl1yKvLTQcK"
      },
      "execution_count": null,
      "outputs": []
    },
    {
      "cell_type": "code",
      "source": [
        "%matplotlib inline\n",
        "from matplotlib import pyplot as plt"
      ],
      "metadata": {
        "execution": {
          "iopub.status.busy": "2023-10-20T09:05:54.292126Z",
          "iopub.execute_input": "2023-10-20T09:05:54.292455Z",
          "iopub.status.idle": "2023-10-20T09:05:54.305235Z",
          "shell.execute_reply.started": "2023-10-20T09:05:54.292422Z",
          "shell.execute_reply": "2023-10-20T09:05:54.304312Z"
        },
        "trusted": true,
        "id": "JKTE4PJ2TQcK"
      },
      "execution_count": null,
      "outputs": []
    },
    {
      "cell_type": "code",
      "source": [
        "!pip install mapcalc"
      ],
      "metadata": {
        "execution": {
          "iopub.status.busy": "2023-10-20T09:05:54.306251Z",
          "iopub.execute_input": "2023-10-20T09:05:54.306597Z",
          "iopub.status.idle": "2023-10-20T09:06:02.691906Z",
          "shell.execute_reply.started": "2023-10-20T09:05:54.306574Z",
          "shell.execute_reply": "2023-10-20T09:06:02.690563Z"
        },
        "trusted": true,
        "id": "vkZ3qH7mTQcK"
      },
      "execution_count": null,
      "outputs": []
    },
    {
      "cell_type": "code",
      "source": [
        "import cv2\n",
        "def grayscale(img):\n",
        "    img = cv2.cvtColor(img, cv2.COLOR_BGR2GRAY)\n",
        "    return img\n",
        "def equalize(img):\n",
        "    img = cv2.equalizeHist(img)\n",
        "    return img\n",
        "def preprocess(img):\n",
        "    img = grayscale(img)\n",
        "    img = equalize(img)\n",
        "    img = img/255\n",
        "    return img\n",
        "def normaly(img):\n",
        "    img = np.asarray(img)\n",
        "    img = cv2.resize(img, (32, 32))\n",
        "    img = preprocess(img)\n",
        "    #plt.imshow(img, cmap = plt.get_cmap('gray'))\n",
        "    #plt.show()\n",
        "    img = img.reshape(1, 32, 32, 1)\n",
        "    return img\n",
        "def relu(x):\n",
        "    return x * (x > 0)"
      ],
      "metadata": {
        "execution": {
          "iopub.status.busy": "2023-10-20T09:06:02.693781Z",
          "iopub.execute_input": "2023-10-20T09:06:02.694255Z",
          "iopub.status.idle": "2023-10-20T09:06:02.701634Z",
          "shell.execute_reply.started": "2023-10-20T09:06:02.694216Z",
          "shell.execute_reply": "2023-10-20T09:06:02.700714Z"
        },
        "trusted": true,
        "id": "gosLh703TQcL"
      },
      "execution_count": null,
      "outputs": []
    },
    {
      "cell_type": "code",
      "source": [
        "import torchvision.transforms as transforms\n",
        "data_transforms = transforms.Compose([\n",
        "    #transforms.ToPILImage(),\n",
        "    transforms.Resize ((48, 48)),\n",
        "    transforms.ToTensor(),\n",
        "    transforms.Normalize((0.3337, 0.3064, 0.3171), ( 0.2672, 0.2564, 0.2629))\n",
        "])"
      ],
      "metadata": {
        "execution": {
          "iopub.status.busy": "2023-10-20T09:06:02.705046Z",
          "iopub.execute_input": "2023-10-20T09:06:02.70529Z",
          "iopub.status.idle": "2023-10-20T09:06:02.728153Z",
          "shell.execute_reply.started": "2023-10-20T09:06:02.70527Z",
          "shell.execute_reply": "2023-10-20T09:06:02.727306Z"
        },
        "trusted": true,
        "id": "4cGNnb8oTQcL"
      },
      "execution_count": null,
      "outputs": []
    },
    {
      "cell_type": "code",
      "source": [
        "import torch\n",
        "import torch.nn as nn\n",
        "import torch.nn.functional as F\n",
        "\n",
        "nclasses = 43\n",
        "class Net(nn.Module):\n",
        "    def __init__(self):\n",
        "        super(Net, self).__init__()\n",
        "        self.conv1 = nn.Conv2d(3, 1, kernel_size=1)\n",
        "        self.conv2 = nn.Conv2d(1, 29, kernel_size=5)\n",
        "        self.maxpool2 = nn.MaxPool2d(3, stride=2 , ceil_mode=True)\n",
        "        self.conv3 = nn.Conv2d(29, 59, kernel_size=3)\n",
        "        self.maxpool3 = nn.MaxPool2d(3, stride=2 , ceil_mode=True)\n",
        "        self.conv4 = nn.Conv2d(59, 74, kernel_size=3)\n",
        "        self.maxpool4 = nn.MaxPool2d(3, stride=2 , ceil_mode=True)\n",
        "        self.conv2_drop = nn.Dropout2d()\n",
        "        self.conv3_drop = nn.Dropout2d()\n",
        "        self.fc1 = nn.Linear(1184, 300)\n",
        "        self.fc2 = nn.Linear(300, nclasses)\n",
        "        self.conv0_bn = nn.BatchNorm2d(3)\n",
        "        self.conv1_bn = nn.BatchNorm2d(1)\n",
        "        self.conv2_bn = nn.BatchNorm2d(29)\n",
        "        self.conv3_bn = nn.BatchNorm2d(59)\n",
        "        self.conv4_bn = nn.BatchNorm2d(74)\n",
        "        self.dense1_bn = nn.BatchNorm1d(300)\n",
        "    def forward(self, x):\n",
        "        x =  F.relu(self.conv1_bn(self.conv1(self.conv0_bn(x))))\n",
        "        x = F.relu(self.conv2_bn(self.conv2(x)))\n",
        "        x = F.relu(self.conv3_bn(self.conv3( self.maxpool2(x))))\n",
        "        x = F.relu(self.conv4_bn(self.conv4( self.maxpool3(x))))\n",
        "        x = self.maxpool4(x)\n",
        "        x = x.view(-1, 1184)\n",
        "        x = F.relu(self.fc1(x))\n",
        "        x = self.dense1_bn(x)\n",
        "        x = F.dropout(x, training=self.training)\n",
        "        x = self.fc2(x)\n",
        "        x = F.dropout(x, training=self.training)\n",
        "        return F.log_softmax(x)"
      ],
      "metadata": {
        "execution": {
          "iopub.status.busy": "2023-10-20T09:06:02.729256Z",
          "iopub.execute_input": "2023-10-20T09:06:02.729521Z",
          "iopub.status.idle": "2023-10-20T09:06:02.74206Z",
          "shell.execute_reply.started": "2023-10-20T09:06:02.729487Z",
          "shell.execute_reply": "2023-10-20T09:06:02.741232Z"
        },
        "trusted": true,
        "id": "iy4F5LBITQcL"
      },
      "execution_count": null,
      "outputs": []
    },
    {
      "cell_type": "code",
      "source": [
        "model2 = Net()\n",
        "model2.load_state_dict(torch.load('/kaggle/input/models1/model_74.pth'))\n",
        "model2.eval()"
      ],
      "metadata": {
        "execution": {
          "iopub.status.busy": "2023-10-20T09:06:15.528744Z",
          "iopub.execute_input": "2023-10-20T09:06:15.529125Z",
          "iopub.status.idle": "2023-10-20T09:06:15.584665Z",
          "shell.execute_reply.started": "2023-10-20T09:06:15.529098Z",
          "shell.execute_reply": "2023-10-20T09:06:15.583885Z"
        },
        "trusted": true,
        "id": "aQcTieqDTQcL"
      },
      "execution_count": null,
      "outputs": []
    },
    {
      "cell_type": "code",
      "source": [
        "import requests\n",
        "from PIL import Image\n",
        "url = 'https://encrypted-tbn0.gstatic.com/images?q=tbn:ANd9GcS1C3nUKC8VUu5nWTZao2M367MUPVLsTMzYVA&usqp=CAU'\n",
        "r = requests.get(url, stream=True)\n",
        "img = Image.open(r.raw)\n",
        "plt.imshow(img, cmap=plt.get_cmap('gray'))\n",
        "numpy_array = np.array(img)\n",
        "ttt = Image.fromarray(numpy_array)\n",
        "\n",
        "foo = data_transforms(ttt)\n",
        "print(foo)\n",
        "# bar = foo(img)\n",
        "foo = foo.reshape(1,3,48,48)"
      ],
      "metadata": {
        "execution": {
          "iopub.status.busy": "2023-10-20T09:30:42.561333Z",
          "iopub.execute_input": "2023-10-20T09:30:42.561667Z",
          "iopub.status.idle": "2023-10-20T09:30:42.763255Z",
          "shell.execute_reply.started": "2023-10-20T09:30:42.561642Z",
          "shell.execute_reply": "2023-10-20T09:30:42.762333Z"
        },
        "trusted": true,
        "id": "SG-AsKW4TQcL"
      },
      "execution_count": null,
      "outputs": []
    },
    {
      "cell_type": "code",
      "source": [
        "print(foo[0].shape)"
      ],
      "metadata": {
        "execution": {
          "iopub.status.busy": "2023-10-20T09:17:51.156446Z",
          "iopub.execute_input": "2023-10-20T09:17:51.156783Z",
          "iopub.status.idle": "2023-10-20T09:17:51.161494Z",
          "shell.execute_reply.started": "2023-10-20T09:17:51.156757Z",
          "shell.execute_reply": "2023-10-20T09:17:51.16053Z"
        },
        "trusted": true,
        "id": "Y9zk2SvQTQcL"
      },
      "execution_count": null,
      "outputs": []
    },
    {
      "cell_type": "code",
      "source": [
        "\n",
        "testing =model2(foo)"
      ],
      "metadata": {
        "execution": {
          "iopub.status.busy": "2023-10-20T09:21:42.99574Z",
          "iopub.execute_input": "2023-10-20T09:21:42.996432Z",
          "iopub.status.idle": "2023-10-20T09:21:43.004349Z",
          "shell.execute_reply.started": "2023-10-20T09:21:42.996402Z",
          "shell.execute_reply": "2023-10-20T09:21:43.003437Z"
        },
        "trusted": true,
        "id": "FIWZopYvTQcL"
      },
      "execution_count": null,
      "outputs": []
    },
    {
      "cell_type": "code",
      "source": [
        "print(int(torch.argmax(testing[0])))\n",
        "print(torch.exp(testing))"
      ],
      "metadata": {
        "execution": {
          "iopub.status.busy": "2023-10-20T09:44:50.398132Z",
          "iopub.execute_input": "2023-10-20T09:44:50.398464Z",
          "iopub.status.idle": "2023-10-20T09:44:50.405058Z",
          "shell.execute_reply.started": "2023-10-20T09:44:50.39844Z",
          "shell.execute_reply": "2023-10-20T09:44:50.404198Z"
        },
        "trusted": true,
        "id": "v7dhYVboTQcL"
      },
      "execution_count": null,
      "outputs": []
    },
    {
      "cell_type": "code",
      "source": [
        "print(y_true[504])"
      ],
      "metadata": {
        "execution": {
          "iopub.status.busy": "2023-10-20T09:06:02.816584Z",
          "iopub.status.idle": "2023-10-20T09:06:02.817029Z",
          "shell.execute_reply.started": "2023-10-20T09:06:02.816797Z",
          "shell.execute_reply": "2023-10-20T09:06:02.816818Z"
        },
        "trusted": true,
        "id": "YWRPY3p_TQcL"
      },
      "execution_count": null,
      "outputs": []
    },
    {
      "cell_type": "code",
      "source": [
        "from mapcalc import calculate_map, calculate_map_range\n",
        "map50s = []\n",
        "crops = []\n",
        "import cv2\n",
        "for i in range(len(results1)):\n",
        "    result_dict = {'boxes':[],'labels':[],'scores':[]}\n",
        "    boxs = []\n",
        "    labels = []\n",
        "    scores = []\n",
        "    for index,row in results1[i].astype({\"xmin\":'int', \"ymin\":'int', \"xmax\":'int', \"ymax\":'int'}).iterrows():\n",
        "        ima = np.array(ims[i])\n",
        "    #print(row)\n",
        "        xmin = relu(row['xmin'] - 5)\n",
        "        ymin = relu(row['ymin'] - 5)\n",
        "        xmax = relu(row['xmax'] + 5)\n",
        "        ymax = relu(row['ymax'] + 5)\n",
        "    #cv2.rectangle(ima, (xmin, ymin), (xmax, ymax), (255,0,0), 4)\n",
        "        cropped_image = ima[ymin:ymax, xmin:xmax]\n",
        "        #crops.append(cropped_image)\n",
        "        #plt.imshow(cropped_image)\n",
        "        #plt.show()\n",
        "        try:\n",
        "            im = Image.fromarray(cropped_image)\n",
        "            im = data_transforms(im)\n",
        "            im = im.reshape(1,3,48,48)\n",
        "            y_pred1 = model2(im)\n",
        "            y_pred1 = torch.exp(y_pred1)\n",
        "            la = int(torch.argmax(y_pred1[0]))\n",
        "            boxs.append([row['xmin'],row['ymin'],row['xmax'],row['ymax']])\n",
        "            labels.append(la)\n",
        "            scores.append(y_pred1[0][la])\n",
        "        except Exception as error:\n",
        "            print(i,error)\n",
        "\n",
        "        #print(\"predicted sign: \"+ str(la))\n",
        "    result_dict['boxes'] = boxs\n",
        "    result_dict['labels'] = labels\n",
        "    result_dict['scores'] = scores\n",
        "    ground_truth = y_true[i]\n",
        "    map50 = calculate_map(ground_truth, result_dict, 0.5)\n",
        "    if map50 < 0.8:\n",
        "        print(ground_truth)\n",
        "        print(result_dict)\n",
        "        print(map50)\n",
        "    map50s.append(map50)"
      ],
      "metadata": {
        "execution": {
          "iopub.status.busy": "2023-10-20T09:44:56.086389Z",
          "iopub.execute_input": "2023-10-20T09:44:56.086732Z",
          "iopub.status.idle": "2023-10-20T09:45:01.078858Z",
          "shell.execute_reply.started": "2023-10-20T09:44:56.086699Z",
          "shell.execute_reply": "2023-10-20T09:45:01.07791Z"
        },
        "trusted": true,
        "id": "k2SrBiguTQcL"
      },
      "execution_count": null,
      "outputs": []
    },
    {
      "cell_type": "code",
      "source": [
        "print(map50s)\n",
        "def Average(lst):\n",
        "    return sum(lst) / len(lst)\n",
        "\n",
        "# Driver Code\n",
        "average = Average(map50s)\n",
        "\n",
        "# Printing average of the list\n",
        "print(\"Average of the list =\", round(average, 2))"
      ],
      "metadata": {
        "execution": {
          "iopub.status.busy": "2023-10-20T09:45:12.026971Z",
          "iopub.execute_input": "2023-10-20T09:45:12.027614Z",
          "iopub.status.idle": "2023-10-20T09:45:12.032888Z",
          "shell.execute_reply.started": "2023-10-20T09:45:12.027585Z",
          "shell.execute_reply": "2023-10-20T09:45:12.031945Z"
        },
        "trusted": true,
        "id": "2NXqgSLWTQcL"
      },
      "execution_count": null,
      "outputs": []
    },
    {
      "cell_type": "code",
      "source": [
        "cropped_image = ima[Y:Y+H, X:X+W]\n",
        "print([X,Y,W,H])\n",
        "plt.imshow(cropped_image)"
      ],
      "metadata": {
        "execution": {
          "iopub.status.busy": "2023-10-20T09:06:02.821652Z",
          "iopub.status.idle": "2023-10-20T09:06:02.822092Z",
          "shell.execute_reply.started": "2023-10-20T09:06:02.821865Z",
          "shell.execute_reply": "2023-10-20T09:06:02.821885Z"
        },
        "trusted": true,
        "id": "BtgRZ67ETQcL"
      },
      "execution_count": null,
      "outputs": []
    },
    {
      "cell_type": "code",
      "source": [
        "import requests\n",
        "from PIL import Image\n",
        "url = 'https://thumbs.dreamstime.com/t/road-signs-main-road-sign-blue-background-road-signs-main-road-sign-blue-background-109436823.jpg'\n",
        "r = requests.get(url, stream=True)\n",
        "img = Image.open(r.raw)\n",
        "plt.imshow(img, cmap=plt.get_cmap('gray'))\n",
        "#im = normaly(img)\n",
        "img = np.asarray(img)\n",
        "img = cv2.resize(img, (32, 32))\n",
        "img = preprocess(img)\n",
        "plt.imshow(img, cmap = plt.get_cmap('gray'))\n",
        "print(img.shape)\n",
        "img = img.reshape(1, 32, 32, 1)\n",
        "y_pred1 = model2.predict(img)\n",
        "la = np.argmax(y_pred1,axis=1)\n",
        "print(\"predicted sign: \"+ str(la))"
      ],
      "metadata": {
        "execution": {
          "iopub.status.busy": "2023-10-20T09:06:02.82331Z",
          "iopub.status.idle": "2023-10-20T09:06:02.823708Z",
          "shell.execute_reply.started": "2023-10-20T09:06:02.823505Z",
          "shell.execute_reply": "2023-10-20T09:06:02.823524Z"
        },
        "trusted": true,
        "id": "v0KBA3bVTQcL"
      },
      "execution_count": null,
      "outputs": []
    },
    {
      "cell_type": "code",
      "source": [
        "from mapcalc import calculate_map, calculate_map_range\n",
        "ground_truth = {\n",
        "    'boxes':\n",
        "        [[60., 80., 66., 92.],\n",
        "         [70., 87., 81., 94.],\n",
        "         [8., 34., 10., 36.]],\n",
        "\n",
        "    'labels':\n",
        "        [2, 3, 4]}\n",
        "\n",
        "result_dict = {\n",
        "    'boxes':\n",
        "        [[60., 80., 66., 92.],\n",
        "         [59., 94., 68., 97.],\n",
        "         [70., 87., 81., 94.],\n",
        "         [8., 34., 10., 36.]],\n",
        "\n",
        "    'labels':\n",
        "        [2, 3, 3, 4],\n",
        "\n",
        "    'scores':\n",
        "        [0.99056727, 0.98965424, 0.93990153, 0.9157755]}\n",
        "\n",
        "# calculates the mAP for an IOU threshold of 0.5\n",
        "print(calculate_map(ground_truth, result_dict, 0.5))\n",
        "\n",
        "# calculates the mAP average for the IOU thresholds 0.05, 0.1, 0.15, ..., 0.90, 0.95.\n",
        "print(calculate_map_range(ground_truth, result_dict, 0.05, 0.95, 0.05))"
      ],
      "metadata": {
        "execution": {
          "iopub.status.busy": "2023-10-20T09:06:02.824665Z",
          "iopub.status.idle": "2023-10-20T09:06:02.825089Z",
          "shell.execute_reply.started": "2023-10-20T09:06:02.82487Z",
          "shell.execute_reply": "2023-10-20T09:06:02.82489Z"
        },
        "trusted": true,
        "id": "DDfy4m7pTQcL"
      },
      "execution_count": null,
      "outputs": []
    },
    {
      "cell_type": "code",
      "source": [
        "from mapcalc import calculate_map, calculate_map_range\n",
        "ground_truth = {\n",
        "    'boxes':\n",
        "        [[60., 80., 66., 92.],\n",
        "         [70., 87., 81., 94.],\n",
        "         [8., 34., 10., 36.]],\n",
        "\n",
        "    'labels':\n",
        "        [2, 3, 4]}\n",
        "\n",
        "result_dict = {\n",
        "    'boxes':\n",
        "        [[70., 87., 81., 94.],\n",
        "         [60., 80., 66., 92.],\n",
        "         [8., 34., 10., 36.]],\n",
        "\n",
        "    'labels':\n",
        "        [3, 2, 4],\n",
        "\n",
        "    'scores':\n",
        "        [0.99056727, 0.98965424, 0.93990153]}\n",
        "\n",
        "# calculates the mAP for an IOU threshold of 0.5\n",
        "print(calculate_map(ground_truth, result_dict, 0.5))\n",
        "\n",
        "# calculates the mAP average for the IOU thresholds 0.05, 0.1, 0.15, ..., 0.90, 0.95.\n",
        "print(calculate_map_range(ground_truth, result_dict, 0.05, 0.95, 0.05))"
      ],
      "metadata": {
        "execution": {
          "iopub.status.busy": "2023-10-20T09:06:02.826494Z",
          "iopub.status.idle": "2023-10-20T09:06:02.826785Z",
          "shell.execute_reply.started": "2023-10-20T09:06:02.826645Z",
          "shell.execute_reply": "2023-10-20T09:06:02.826658Z"
        },
        "trusted": true,
        "id": "Bvpg1ZV9TQcL"
      },
      "execution_count": null,
      "outputs": []
    }
  ]
}